{
 "cells": [
  {
   "cell_type": "code",
   "execution_count": 50,
   "metadata": {
    "metadata": {}
   },
   "outputs": [
    {
     "name": "stdout",
     "output_type": "stream",
     "text": [
      "TensorFlow version: 2.15.0\n"
     ]
    }
   ],
   "source": [
    "import datetime\n",
    "import os\n",
    "import random\n",
    "from collections.abc import Iterable\n",
    "from math import ceil\n",
    "\n",
    "import plotly.express as px\n",
    "import plotly.graph_objects as go\n",
    "import plotly.io\n",
    "import polars as pl\n",
    "import polars.selectors as cs\n",
    "import tensorflow as tf\n",
    "\n",
    "print(\"TensorFlow version:\", tf.__version__)"
   ]
  },
  {
   "cell_type": "code",
   "execution_count": 51,
   "metadata": {},
   "outputs": [
    {
     "data": {
      "text/plain": [
       "[PhysicalDevice(name='/physical_device:CPU:0', device_type='CPU')]"
      ]
     },
     "execution_count": 51,
     "metadata": {},
     "output_type": "execute_result"
    }
   ],
   "source": [
    "tf.config.list_physical_devices()"
   ]
  },
  {
   "cell_type": "code",
   "execution_count": 52,
   "metadata": {},
   "outputs": [],
   "source": [
    "random.seed(57)\n",
    "tf.random.set_seed(57)\n",
    "\n",
    "plotly.io.templates.default = \"plotly_dark\""
   ]
  },
  {
   "cell_type": "code",
   "execution_count": 53,
   "metadata": {},
   "outputs": [],
   "source": [
    "# TODO Fourier analysis and correlations -> different notebook"
   ]
  },
  {
   "cell_type": "code",
   "execution_count": 54,
   "metadata": {},
   "outputs": [],
   "source": [
    "# folder containing the inputs from the competition\n",
    "INPUT_DIR = os.path.abspath(\"input\")"
   ]
  },
  {
   "cell_type": "code",
   "execution_count": 55,
   "metadata": {},
   "outputs": [],
   "source": [
    "# TODO move all constants to the beginning\n",
    "\n",
    "TARGET_LENGTH = 16  # length of the target sequences\n",
    "\n",
    "# metadata columns = [items on promotion, oil prices, weekday]\n",
    "METADATA_COLS = [\"onpromotion\", \"dcoilwtico\", \"weekday\"]\n",
    "FEATURES = 1 + len(METADATA_COLS)  # number of input features\n",
    "\n",
    "DATAFRAMES_TIMESTEPS = 600  # number of timesteps to keep in the training dataframe\n",
    "TRAIN_RATIO = 0.8  # ratio of data to use for training vs for validation\n",
    "TRAIN_TIMESTEPS = int(DATAFRAMES_TIMESTEPS * TRAIN_RATIO)\n",
    "VALID_TIMESTEPS = DATAFRAMES_TIMESTEPS - TRAIN_TIMESTEPS"
   ]
  },
  {
   "cell_type": "code",
   "execution_count": 56,
   "metadata": {},
   "outputs": [],
   "source": [
    "# training hyperparameters\n",
    "LEARNING_RATE = 1e-4  # TODO adjust?\n",
    "BATCH_SIZE = 64\n",
    "\n",
    "# buffer size for dataset shuffling\n",
    "BUFFER_SIZE = 10_000\n",
    "\n",
    "# the Kaggle competition uses Root Mean Squared Logarithmic Error\n",
    "LOSS = tf.keras.losses.MeanSquaredLogarithmicError()"
   ]
  },
  {
   "cell_type": "markdown",
   "metadata": {},
   "source": [
    "---\n",
    "# Data preparation"
   ]
  },
  {
   "cell_type": "code",
   "execution_count": 57,
   "metadata": {},
   "outputs": [],
   "source": [
    "def fill_missing_dates(df: pl.DataFrame) -> pl.DataFrame:\n",
    "    \"\"\"Adds the missing dates and fills the missing values.\"\"\"\n",
    "\n",
    "    date_df = pl.DataFrame(\n",
    "        pl.date_range(\n",
    "            df[\"date\"].min(), df[\"date\"].max(), interval=\"1d\", eager=True\n",
    "        ).alias(\"date\")\n",
    "    )\n",
    "\n",
    "    df = date_df.join(\n",
    "        df,\n",
    "        on=\"date\",\n",
    "        how=\"outer\",\n",
    "    ).drop(\"date_right\")\n",
    "\n",
    "    # interpolate and fill backward/forward in case the first/last value is missing\n",
    "    df = df.interpolate().fill_null(strategy=\"backward\").fill_null(strategy=\"forward\")\n",
    "\n",
    "    return df"
   ]
  },
  {
   "cell_type": "code",
   "execution_count": 58,
   "metadata": {},
   "outputs": [],
   "source": [
    "# read and complete the dataframe containing the oil prices\n",
    "oil_df = pl.read_csv(os.path.join(INPUT_DIR, \"oil.csv\"), try_parse_dates=True)\n",
    "oil_df = fill_missing_dates(oil_df)"
   ]
  },
  {
   "cell_type": "code",
   "execution_count": 59,
   "metadata": {},
   "outputs": [],
   "source": [
    "# read the training dataframe\n",
    "train_df = pl.read_csv(os.path.join(INPUT_DIR, \"train.csv\"), try_parse_dates=True)\n",
    "train_df = train_df.drop(\"id\")  # we do not need the id\n",
    "\n",
    "# keep only the chosen number of timesteps plus TARGET_LENGTH steps to use as test set\n",
    "train_df = train_df.filter(\n",
    "    pl.col(\"date\")\n",
    "    > train_df[\"date\"].max() - datetime.timedelta(DATAFRAMES_TIMESTEPS + TARGET_LENGTH)\n",
    ")\n",
    "\n",
    "# partition the training data into dataframes for each (store_nbr, family) pair\n",
    "dataframes = train_df.partition_by(\n",
    "    [\"store_nbr\", \"family\"], include_key=False, as_dict=True\n",
    ")\n",
    "\n",
    "# fill missing dates and add oil prices and weekday signal to each dataframe\n",
    "for key, df in dataframes.items():\n",
    "    dataframes[key] = (\n",
    "        fill_missing_dates(df)\n",
    "        .join(oil_df, on=\"date\", how=\"inner\")\n",
    "        .with_columns(pl.col(\"date\").dt.weekday().alias(\"weekday\"))\n",
    "        .with_columns(cs.numeric().cast(pl.Float32))  # cast numeric columns to Float32\n",
    "    )"
   ]
  },
  {
   "cell_type": "code",
   "execution_count": 65,
   "metadata": {},
   "outputs": [],
   "source": [
    "# Create test dataframes to evaluate our models after training\n",
    "# The test dataframes simulate the targets (from test.csv), except that\n",
    "# we have the values of the 'sales' column (to compare with our predictions).\n",
    "\n",
    "test_dataframes = {}\n",
    "\n",
    "# use the last TARGET_LENGTH timesteps of each dataframe as test set\n",
    "for key, df in dataframes.items():\n",
    "    test_dataframes[key] = df.tail(TARGET_LENGTH)\n",
    "    dataframes[key] = df.head(-TARGET_LENGTH)"
   ]
  },
  {
   "cell_type": "code",
   "execution_count": 66,
   "metadata": {},
   "outputs": [
    {
     "name": "stdout",
     "output_type": "stream",
     "text": [
      "columns: ['date', 'sales', 'onpromotion', 'dcoilwtico', 'weekday']\n",
      "training dataframes shape: (600, 5)\n",
      "test dataframes shape    : (16, 5)\n"
     ]
    }
   ],
   "source": [
    "print(\"columns:\", dataframes[key].columns)\n",
    "print(\"training dataframes shape:\", dataframes[key].shape)\n",
    "print(\"test dataframes shape    :\", test_dataframes[key].shape)"
   ]
  },
  {
   "cell_type": "code",
   "execution_count": 67,
   "metadata": {},
   "outputs": [],
   "source": [
    "# TODO Only need to add the values from test.csv for the predictions, not for training\n",
    "# NOTE call 'target_df' to avoid confusion with the test dataframes (taken from train.csv)\n",
    "\n",
    "# target_df = pl.read_csv(os.path.join(INPUT_DIR, \"test.csv\"), try_parse_dates=True)\n",
    "\n",
    "# # Add a 'sales' column filled with null values to the test dataframe\n",
    "# target_df = target_df.with_columns(pl.lit(None).alias(\"sales\")).select(train_df.columns)\n",
    "\n",
    "# # Concatenate the dataframes so that the training dataframe contains all time steps\n",
    "# train_df = pl.concat([train_df, target_df])"
   ]
  },
  {
   "cell_type": "markdown",
   "metadata": {},
   "source": [
    "---\n",
    "# Filtering"
   ]
  },
  {
   "cell_type": "code",
   "execution_count": 68,
   "metadata": {},
   "outputs": [
    {
     "name": "stdout",
     "output_type": "stream",
     "text": [
      "drop: 116 | remaining: 1666\n"
     ]
    }
   ],
   "source": [
    "# NOTE zero-tail series\n",
    "# filter out all series having their tail uniformly zero\n",
    "\n",
    "ZERO_TAIL_LENGTH = 16\n",
    "\n",
    "zero_tail_dataframes = {\n",
    "    key: df\n",
    "    for key, df in dataframes.items()\n",
    "    if df.tail(ZERO_TAIL_LENGTH).select(\"sales\").sum().item() == 0\n",
    "}\n",
    "\n",
    "for key in zero_tail_dataframes.keys():\n",
    "    _ = dataframes.pop(key)\n",
    "\n",
    "print(\"drop:\", len(zero_tail_dataframes), \"| remaining:\", len(dataframes))"
   ]
  },
  {
   "cell_type": "code",
   "execution_count": 238,
   "metadata": {},
   "outputs": [
    {
     "name": "stdout",
     "output_type": "stream",
     "text": [
      "skipping\n"
     ]
    }
   ],
   "source": [
    "%%script echo skipping\n",
    "\n",
    "# plot a random series with zero-tail\n",
    "df = zero_tail_dataframes[random.sample(sorted(zero_tail_dataframes.keys()), 1)[0]]\n",
    "px.line(data_frame=df, x=\"date\", y=\"sales\")"
   ]
  },
  {
   "cell_type": "code",
   "execution_count": 70,
   "metadata": {},
   "outputs": [
    {
     "name": "stdout",
     "output_type": "stream",
     "text": [
      "drop: 188 | remaining: 1478\n"
     ]
    }
   ],
   "source": [
    "# NOTE series with gaps\n",
    "# filter out all series having a gap of at least `GAP_LENGTH` timesteps (= 0)\n",
    "\n",
    "# minimum gap length\n",
    "GAP_LENGTH = 32\n",
    "\n",
    "gap_dataframes = {\n",
    "    key: df\n",
    "    for key, df in dataframes.items()\n",
    "    if df.with_columns(pl.col(\"sales\").rolling_mean(window_size=GAP_LENGTH))[\n",
    "        \"sales\"\n",
    "    ].min()\n",
    "    == 0.0\n",
    "}\n",
    "\n",
    "for key in gap_dataframes.keys():\n",
    "    _ = dataframes.pop(key)\n",
    "\n",
    "print(\"drop:\", len(gap_dataframes), \"| remaining:\", len(dataframes))"
   ]
  },
  {
   "cell_type": "code",
   "execution_count": 239,
   "metadata": {},
   "outputs": [
    {
     "name": "stdout",
     "output_type": "stream",
     "text": [
      "skipping\n"
     ]
    }
   ],
   "source": [
    "%%script echo skipping\n",
    "\n",
    "# plot a random series with a gap\n",
    "df = gap_dataframes[random.sample(sorted(gap_dataframes.keys()), 1)[0]]\n",
    "px.line(data_frame=df, x=\"date\", y=\"sales\")"
   ]
  },
  {
   "cell_type": "code",
   "execution_count": 240,
   "metadata": {},
   "outputs": [
    {
     "name": "stdout",
     "output_type": "stream",
     "text": [
      "skipping\n"
     ]
    }
   ],
   "source": [
    "%%script echo skipping\n",
    "\n",
    "# plot a random series from the remaining keys\n",
    "df = dataframes[random.sample(sorted(dataframes.keys()), 1)[0]]\n",
    "px.line(data_frame=df, x=\"date\", y=\"sales\")"
   ]
  },
  {
   "cell_type": "markdown",
   "metadata": {},
   "source": [
    "---\n",
    "# MODEL DEFINITION\n",
    "---"
   ]
  },
  {
   "cell_type": "code",
   "execution_count": 77,
   "metadata": {},
   "outputs": [],
   "source": [
    "# NOTE Notation:\n",
    "# NOTE - S = sales\n",
    "# NOTE - M = (M_1, M_2, ...) = vector of metadata variables\n",
    "# NOTE - Z(t) = value of variable Z at timestep t\n",
    "\n",
    "# NOTE Ansatz: there exists a random variable X which underlies S\n",
    "# NOTE in the sense that S = f(X, M) for some function f.\n",
    "\n",
    "# NOTE We consider windows (sequences of consecutive timesteps) composed of N+T timesteps\n",
    "# NOTE and split into two parts\n",
    "# NOTE (t_(-N-1), ..., t_0) of N = input_length timesteps   ->  x-window (xW)\n",
    "# NOTE (t_1, ..., t_T)      of T = TARGET_LENGTH timesteps  ->  y-window (yW)\n",
    "#\n",
    "# NOTE We have the values of all metadata variables on the entire window and the values of S on the x-window.\n",
    "# NOTE We want to predict the values of S on the y-window.\n",
    "\n",
    "# NOTE We proceed in three steps:\n",
    "# NOTE 1. DECOUPLING: extract the value of the underlying variable X on the x-window from those of S and M\n",
    "# NOTE   {S(t), M(t) : t in xW} -> {X(t) : t in xW}\n",
    "# NOTE 2. TIME SERIES PREDICTION: predict the values of X on the y-window from its values on the x-window\n",
    "# NOTE   {X(t) : t in xW} -> {X(t) : t in yW}\n",
    "# NOTE 3. COUPLING: combine X with the metadata to obtain the values of S on the y-window\n",
    "# NOTE   {X(t), M(t) : t in yW} -> {S(t) : t in yW}\n",
    "# NOTE Each arrow represents a neural network and takes the values of the previous network as input.\n",
    "#\n",
    "# NOTE The process can be summarized as:\n",
    "# NOTE [S(xW), M(xW)] -> |DECOUPNET| -> X(xW) -> |TIMENET| -> X(yW) -> [X(yW), M(yW)] -> |COUPNET| -> S(yW)\n",
    "\n",
    "# NOTE We will use dense models to do the coupling/decoupling and try different architectures for the TS prediction."
   ]
  },
  {
   "cell_type": "code",
   "execution_count": 78,
   "metadata": {},
   "outputs": [],
   "source": [
    "# NOTE Create decoupling/coupling networks to use in all models.\n",
    "# NOTE We choose simple architectures under the assumption that the coupling relation\n",
    "# NOTE (the function f above) is not very complicated.\n",
    "\n",
    "decoupling_net = tf.keras.Sequential(\n",
    "    [\n",
    "        tf.keras.Input(shape=(None, FEATURES)),\n",
    "        tf.keras.layers.Dense(16, activation=\"relu\"),\n",
    "        tf.keras.layers.Dense(16, activation=\"relu\"),\n",
    "        tf.keras.layers.Dense(1),\n",
    "    ],\n",
    "    name=\"DecoupNet\",\n",
    ")\n",
    "\n",
    "coupling_net = tf.keras.Sequential(\n",
    "    [\n",
    "        tf.keras.Input(shape=(TARGET_LENGTH, FEATURES)),\n",
    "        tf.keras.layers.Dense(16, activation=\"relu\"),\n",
    "        tf.keras.layers.Dense(16, activation=\"relu\"),\n",
    "        tf.keras.layers.Dense(1),\n",
    "    ],\n",
    "    name=\"CoupNet\",\n",
    ")"
   ]
  },
  {
   "cell_type": "code",
   "execution_count": 307,
   "metadata": {},
   "outputs": [],
   "source": [
    "def make_model(timenet: tf.keras.Model, name: str) -> tf.keras.Model:\n",
    "    # create instances of the decoupling/coupling networks to use in the model\n",
    "    dcnet = tf.keras.models.clone_model(decoupling_net)\n",
    "    cnet = tf.keras.models.clone_model(coupling_net)\n",
    "\n",
    "    # variable names are in the form `window_var`\n",
    "    x_win = tf.keras.Input(shape=(None, FEATURES), name=\"x-window\")\n",
    "    y_m = tf.keras.Input(shape=(TARGET_LENGTH, FEATURES - 1), name=\"y-metadata\")\n",
    "\n",
    "    x_x = dcnet(x_win)\n",
    "    y_x = timenet(x_x)\n",
    "    y_xm = tf.keras.layers.Concatenate(axis=-1, name=\"y-concat\")([y_x, y_m])\n",
    "    y_s = cnet(y_xm)\n",
    "\n",
    "    model = tf.keras.Model(inputs=[x_win, y_m], outputs=y_s, name=name)\n",
    "\n",
    "    model.compile(\n",
    "        loss=LOSS, optimizer=tf.keras.optimizers.Adam(learning_rate=LEARNING_RATE)\n",
    "    )\n",
    "\n",
    "    return model"
   ]
  },
  {
   "cell_type": "code",
   "execution_count": 312,
   "metadata": {},
   "outputs": [
    {
     "data": {
      "image/png": "[encoded data removed]",
      "text/plain": [
       "<IPython.core.display.Image object>"
      ]
     },
     "execution_count": 312,
     "metadata": {},
     "output_type": "execute_result"
    }
   ],
   "source": [
    "# make a dummy TimeNet to illustrate the architecture\n",
    "dummy_timenet = tf.keras.Sequential(\n",
    "    [\n",
    "        tf.keras.Input(shape=(None, 1)),\n",
    "        tf.keras.layers.Lambda(lambda xs: xs[-TARGET_LENGTH:]),\n",
    "        tf.keras.layers.Reshape((TARGET_LENGTH, 1)),\n",
    "    ],\n",
    "    name=\"TimeNet\",\n",
    ")\n",
    "\n",
    "dummy_model = make_model(dummy_timenet, name=\"dummy\")\n",
    "\n",
    "tf.keras.utils.plot_model(dummy_model, show_shapes=True)"
   ]
  },
  {
   "cell_type": "markdown",
   "metadata": {},
   "source": [
    "---\n",
    "# DATASET CREATION\n",
    "---"
   ]
  },
  {
   "cell_type": "code",
   "execution_count": 338,
   "metadata": {},
   "outputs": [],
   "source": [
    "# NOTE A window is window_length = input_length + TARGET_LENGTH timesteps of consecutive data from a dataframe.\n",
    "# NOTE Each window produces one (input, target) pair, where\n",
    "# NOTE - target = y-window metadata\n",
    "# NOTE - input = (x-window, y-window metadata)\n",
    "\n",
    "# NOTE For a single key, the number of windows is window_count = TIMESTEPS - window_length + 1.\n",
    "# NOTE The total number of elements in the dataset is thus ceil(window_count * len(keys) / BATCH_SIZE).\n",
    "\n",
    "# NOTE Having `batch` before `map` gives a marginal performance increase\n",
    "# NOTE see https://www.tensorflow.org/guide/data_performance\n",
    "# NOTE verified in practice"
   ]
  },
  {
   "cell_type": "code",
   "execution_count": 340,
   "metadata": {},
   "outputs": [],
   "source": [
    "class KeysDataset(tf.data.Dataset):\n",
    "    @tf.function\n",
    "    def _split_batch_window(window: tf.Tensor):\n",
    "        # split window into x-window and y-window - keep the batches\n",
    "        x_win = window[:, :-TARGET_LENGTH]\n",
    "        y_win = window[:, -TARGET_LENGTH:]\n",
    "\n",
    "        y_s = tf.gather(y_win, indices=[0], axis=-1)\n",
    "        y_m = tf.gather(y_win, indices=[1, 2, 3], axis=-1)\n",
    "\n",
    "        return (x_win, y_m), y_s\n",
    "\n",
    "    def _generator(window_length: int, window_count: int, xs: tf.Tensor):\n",
    "        for key_ind in range(xs.shape[0]):\n",
    "            for window_ind in range(window_count):\n",
    "                yield xs[key_ind, window_ind : window_ind + window_length]\n",
    "\n",
    "    def __new__(cls, input_length: int, keys: Iterable[tuple[int, str]], train: bool):\n",
    "        # window_length = input_length + TARGET_LENGTH\n",
    "        # window_count = (\n",
    "        #     (TRAIN_TIMESTEPS if train else VALID_TIMESTEPS) - window_length + 1\n",
    "        # )\n",
    "\n",
    "        dfs = [dataframes[key].select([\"sales\"] + METADATA_COLS) for key in keys]\n",
    "\n",
    "        if train:\n",
    "            dfs = [df.head(TRAIN_TIMESTEPS) for df in dfs]\n",
    "        else:\n",
    "            dfs = [df.tail(VALID_TIMESTEPS) for df in dfs]\n",
    "\n",
    "        window_length = input_length + TARGET_LENGTH\n",
    "        window_count = len(dfs[0]) - window_length + 1\n",
    "        window_spec = tf.TensorSpec(shape=(window_length, FEATURES), dtype=tf.float32)\n",
    "\n",
    "        # concatenate all data into one tensor -> (keys, timesteps, features)\n",
    "        xs = tf.concat([tf.expand_dims(df, 0) for df in dfs], axis=0)\n",
    "\n",
    "        ds = tf.data.Dataset.from_generator(\n",
    "            cls._generator,\n",
    "            output_signature=window_spec,\n",
    "            args=(window_length, window_count, xs),\n",
    "        )\n",
    "\n",
    "        return (\n",
    "            ds.batch(BATCH_SIZE)\n",
    "            .map(cls._split_batch_window, num_parallel_calls=tf.data.AUTOTUNE)\n",
    "            .prefetch(tf.data.AUTOTUNE)\n",
    "        )"
   ]
  },
  {
   "cell_type": "code",
   "execution_count": 344,
   "metadata": {},
   "outputs": [],
   "source": [
    "class KeysDatasets:\n",
    "    def __init__(self, input_length: int, keys: Iterable[tuple[int, str]]):\n",
    "        self.train = KeysDataset(input_length, keys, train=True)\n",
    "        self.valid = KeysDataset(input_length, keys, train=False)\n",
    "\n",
    "        # compute the number of batches in the datasets\n",
    "        window_length = input_length + TARGET_LENGTH\n",
    "        train_windows = TRAIN_TIMESTEPS - window_length + 1\n",
    "        valid_windows = VALID_TIMESTEPS - window_length + 1\n",
    "\n",
    "        self.train_batches = ceil(train_windows * len(keys) / BATCH_SIZE)\n",
    "        self.valid_batches = ceil(valid_windows * len(keys) / BATCH_SIZE)\n",
    "\n",
    "    @property\n",
    "    def length(self) -> dict[str, int]:\n",
    "        return {\"train\": self.train_batches, \"valid\": self.valid_batches}"
   ]
  },
  {
   "cell_type": "code",
   "execution_count": null,
   "metadata": {},
   "outputs": [],
   "source": [
    "# NOTE Note on the train/valid split of the resulting datasets\n",
    "#\n",
    "# NOTE Because of how the windowing works, the 80/20 split chosen at the start is\n",
    "# NOTE far from what we obtain for the train/valid datasets.\n",
    "# NOTE The number of windows in a dataset decreases linearly with the input lenght,\n",
    "# NOTE for instance for 600 timesteps (480 train/120 valid) and an input length of 96,\n",
    "# NOTE the number of windows (per key) is 369/9, which is a 41/1 split.\n",
    "#\n",
    "# NOTE This is particulary noticeable for input lengths close to the number of validation\n",
    "# NOTE timesteps, as this leaves very few validation windows."
   ]
  },
  {
   "cell_type": "markdown",
   "metadata": {},
   "source": [
    "---\n",
    "# MODEL SELECTION\n",
    "---"
   ]
  },
  {
   "cell_type": "code",
   "execution_count": 196,
   "metadata": {},
   "outputs": [],
   "source": [
    "# make a folder to store the training logs of the selection process\n",
    "os.makedirs(os.path.join(\"log\", \"selection\"), exist_ok=True)"
   ]
  },
  {
   "cell_type": "code",
   "execution_count": 197,
   "metadata": {},
   "outputs": [],
   "source": [
    "INPUT_LENGTHS = (16, 32, 64, 96)\n",
    "EPOCHS_SELECTION = 10\n",
    "KEY_SAMPLE_SIZE = 100"
   ]
  },
  {
   "cell_type": "code",
   "execution_count": 198,
   "metadata": {},
   "outputs": [],
   "source": [
    "# For the selection phase, we train the models on a small sample of keys only\n",
    "# in order to speed up the process.\n",
    "\n",
    "key_sample = random.sample(list(dataframes.keys()), KEY_SAMPLE_SIZE)\n",
    "\n",
    "# make a pair of (train, valid) datasets with the selected keys for each input length\n",
    "kds = {\n",
    "    input_length: KeysDatasets(input_length, key_sample)\n",
    "    for input_length in INPUT_LENGTHS\n",
    "}"
   ]
  },
  {
   "cell_type": "code",
   "execution_count": 199,
   "metadata": {},
   "outputs": [],
   "source": [
    "def plot_selection_metric(model_root_name: str, metric: str = \"val_loss\") -> go.Figure:\n",
    "    logs = {\n",
    "        os.path.splitext(file)[0]: os.path.join(\"log\", \"selection\", file)\n",
    "        for file in sorted(os.listdir(os.path.join(\"log\", \"selection\")))\n",
    "        if file.split(\"-\")[0] == model_root_name\n",
    "    }\n",
    "\n",
    "    metric_df = pl.concat(\n",
    "        [\n",
    "            pl.read_csv(log).select(metric).rename(lambda _: name)\n",
    "            for name, log in logs.items()\n",
    "        ],\n",
    "        how=\"horizontal\",\n",
    "    ).insert_column(0, pl.Series(\"epoch\", range(EPOCHS_SELECTION)))\n",
    "\n",
    "    plot = px.line(\n",
    "        data_frame=metric_df,\n",
    "        x=\"epoch\",\n",
    "        y=list(logs.keys()),\n",
    "        title=f\"{metric} of {model_root_name} models\",\n",
    "        markers=True,\n",
    "    )\n",
    "\n",
    "    return plot"
   ]
  },
  {
   "cell_type": "markdown",
   "metadata": {},
   "source": [
    "## Dense models\n",
    "\n",
    "- pros: good accuracy, reasonably fast to train\n",
    "- cons: fixed input length, limited in how much they can learn?"
   ]
  },
  {
   "cell_type": "code",
   "execution_count": 200,
   "metadata": {},
   "outputs": [],
   "source": [
    "def make_dense_model(input_length: int) -> tf.keras.Model:\n",
    "    name = f\"DENS-{input_length}\"\n",
    "\n",
    "    timenet = tf.keras.Sequential(\n",
    "        [\n",
    "            tf.keras.Input(shape=(input_length, 1)),\n",
    "            tf.keras.layers.Dense(16, activation=\"relu\"),\n",
    "            tf.keras.layers.Flatten(),\n",
    "            tf.keras.layers.Dense(TARGET_LENGTH),\n",
    "            tf.keras.layers.Reshape((TARGET_LENGTH, 1)),\n",
    "        ],\n",
    "        name=\"TimeNet-\" + name,\n",
    "    )\n",
    "\n",
    "    return make_model(timenet, name=name)"
   ]
  },
  {
   "cell_type": "code",
   "execution_count": 201,
   "metadata": {},
   "outputs": [
    {
     "name": "stdout",
     "output_type": "stream",
     "text": [
      "skipping\n"
     ]
    }
   ],
   "source": [
    "%%script echo skipping\n",
    "\n",
    "for input_length in INPUT_LENGTHS:\n",
    "    model = make_dense_model(input_length)\n",
    "\n",
    "    logger = tf.keras.callbacks.CSVLogger(\n",
    "        os.path.join(\"log\", \"selection\", f\"{model.name}.csv\"), append=False\n",
    "    )\n",
    "\n",
    "    model.fit(\n",
    "        kds[input_length].train,\n",
    "        validation_data=kds[input_length].valid,\n",
    "        epochs=EPOCHS_SELECTION,\n",
    "        callbacks=[logger],\n",
    "    )"
   ]
  },
  {
   "cell_type": "code",
   "execution_count": 334,
   "metadata": {},
   "outputs": [],
   "source": [
    "# plot_selection_metric(\"DENS\")"
   ]
  },
  {
   "cell_type": "markdown",
   "metadata": {},
   "source": [
    "## Convolutional models\n",
    "\n",
    "- pros: independent of input length\n",
    "- cons: performance not great"
   ]
  },
  {
   "cell_type": "code",
   "execution_count": 203,
   "metadata": {},
   "outputs": [],
   "source": [
    "def make_conv_model(kernel_sizes: tuple[int, ...]) -> tf.keras.Model:\n",
    "    name = \"CONV-\" + \"\".join(str(x) for x in kernel_sizes)\n",
    "\n",
    "    timenet = tf.keras.Sequential(name=\"TimeNet-\" + name)\n",
    "    timenet.add(tf.keras.Input(shape=(None, 1)))\n",
    "\n",
    "    for kernel_size in kernel_sizes:\n",
    "        timenet.add(\n",
    "            tf.keras.layers.Conv1D(\n",
    "                filters=16, kernel_size=kernel_size, activation=\"relu\"\n",
    "            )\n",
    "        )\n",
    "\n",
    "    timenet.add(tf.keras.layers.Lambda(lambda xs: xs[:, -1, :]))\n",
    "    timenet.add(tf.keras.layers.Reshape((TARGET_LENGTH, 1)))\n",
    "\n",
    "    return make_model(timenet, name=name)"
   ]
  },
  {
   "cell_type": "code",
   "execution_count": 204,
   "metadata": {},
   "outputs": [
    {
     "name": "stdout",
     "output_type": "stream",
     "text": [
      "skipping\n"
     ]
    }
   ],
   "source": [
    "%%script echo skipping\n",
    "\n",
    "KERNEL_SIZES = [(3, 3, 3), (3, 5, 7), (3, 3, 5, 5), (5, 5, 7, 7)]\n",
    "\n",
    "# the minimal input lengths are respectively: [22, 28, 28, 36]\n",
    "\n",
    "for kernel_sizes in KERNEL_SIZES:\n",
    "    model = make_conv_model(kernel_sizes)\n",
    "\n",
    "    logger = tf.keras.callbacks.CSVLogger(\n",
    "        os.path.join(\"log\", \"selection\", f\"{model.name}.csv\"), append=False\n",
    "    )\n",
    "\n",
    "    model.fit(\n",
    "        kds[64].train,\n",
    "        validation_data=kds[64].valid,\n",
    "        epochs=EPOCHS_SELECTION,\n",
    "        callbacks=[logger],\n",
    "    )"
   ]
  },
  {
   "cell_type": "code",
   "execution_count": 335,
   "metadata": {},
   "outputs": [],
   "source": [
    "# plot_selection_metric(\"CONV\")"
   ]
  },
  {
   "cell_type": "markdown",
   "metadata": {},
   "source": [
    "## LSTM models\n",
    "\n",
    "- pros: independent of input length, large potential?\n",
    "- cons: much slower to train"
   ]
  },
  {
   "cell_type": "code",
   "execution_count": 206,
   "metadata": {},
   "outputs": [],
   "source": [
    "def make_lstm_model(depth: int, width: int) -> tf.keras.Model:\n",
    "    name = f\"LSTM-{depth}{width}\"\n",
    "\n",
    "    timenet = tf.keras.Sequential(name=\"TimeNet-\" + name)\n",
    "    timenet.add(tf.keras.Input(shape=(None, 1)))\n",
    "\n",
    "    for _ in range(depth):\n",
    "        timenet.add(tf.keras.layers.LSTM(width, return_sequences=True))\n",
    "\n",
    "    timenet.add(tf.keras.layers.LSTM(TARGET_LENGTH, return_sequences=False))\n",
    "    timenet.add(tf.keras.layers.Reshape((TARGET_LENGTH, 1)))\n",
    "\n",
    "    return make_model(timenet, name=name)"
   ]
  },
  {
   "cell_type": "markdown",
   "metadata": {},
   "source": [
    "### Compare depth\n",
    "\n",
    "Train models of varying depths on the same input length"
   ]
  },
  {
   "cell_type": "code",
   "execution_count": 207,
   "metadata": {},
   "outputs": [
    {
     "name": "stdout",
     "output_type": "stream",
     "text": [
      "skipping\n"
     ]
    }
   ],
   "source": [
    "%%script echo skipping\n",
    "\n",
    "LSTM_ARCH = [(2, 16), (4, 16), (2, 32), (4, 32)]\n",
    "\n",
    "for arch in LSTM_ARCH:\n",
    "    model = make_lstm_model(*arch)\n",
    "\n",
    "    logger = tf.keras.callbacks.CSVLogger(\n",
    "        os.path.join(\"log\", \"selection\", f\"{model.name}.csv\"), append=False\n",
    "    )\n",
    "\n",
    "    model.fit(\n",
    "        kds[32].train,\n",
    "        validation_data=kds[32].valid,\n",
    "        epochs=EPOCHS_SELECTION,\n",
    "        callbacks=[logger],\n",
    "    )"
   ]
  },
  {
   "cell_type": "code",
   "execution_count": 336,
   "metadata": {},
   "outputs": [],
   "source": [
    "# plot_selection_metric(\"LSTM\")"
   ]
  },
  {
   "cell_type": "code",
   "execution_count": 214,
   "metadata": {},
   "outputs": [],
   "source": [
    "# NOTE MODEL SELECTION\n",
    "#\n",
    "# NOTE train the TIER-1 models and submit prediction\n",
    "# NOTE if performance is not good, try the TIER-2 models\n",
    "#\n",
    "# NOTE TIER-1 models:\n",
    "# NOTE - DENS-96    -> best DENS, best overall (on IL = 96 only)\n",
    "# NOTE - CONV-5577  -> best CONV (min IL = 36 -> train IL = 36)\n",
    "# NOTE - LSTM-232   -> best LSTM, most versatile\n",
    "#\n",
    "# NOTE TIER-2 models:\n",
    "# NOTE - DENS-64    -> almost as good as DENS-96, more versatile\n",
    "# NOTE - CONV-333   -> fast and almost as good as best CONV model (min IL = 22)\n",
    "# NOTE - LSTM-432   -> highest potential?"
   ]
  },
  {
   "cell_type": "markdown",
   "metadata": {},
   "source": [
    "---\n",
    "# TRAINING\n",
    "---"
   ]
  },
  {
   "cell_type": "code",
   "execution_count": 215,
   "metadata": {},
   "outputs": [],
   "source": [
    "# make directories to store the data collected during training\n",
    "os.makedirs(os.path.join(\"log\", \"history\"), exist_ok=True)\n",
    "os.makedirs(os.path.join(\"log\", \"tensorboard\"), exist_ok=True)\n",
    "os.makedirs(os.path.join(\"weights\"), exist_ok=True)"
   ]
  },
  {
   "cell_type": "code",
   "execution_count": 216,
   "metadata": {},
   "outputs": [],
   "source": [
    "# NOTE Our datasets are fairly large (between 8.5k and 10k batches).\n",
    "# NOTE To smoothen the training process, we split one epoch\n",
    "# NOTE (one pass through the entire dataset) into EPOCH_SPLIT parts.\n",
    "# NOTE We therefore train for SPLIT_EPOCHS in model.fit(), each of which\n",
    "# NOTE trains on kds.length['train'] // EPOCH_SPLIT batches.\n",
    "# NOTE We need train_ds.repeat() in model.fit() to be able to loop over\n",
    "# NOTE the training dataset more than once.\n",
    "#\n",
    "# NOTE This is (almost, up to rounding) equivalent to training for TRAIN_EPOCHS\n",
    "# NOTE epochs without splitting the dataset, but that would make very large epochs\n",
    "# NOTE (~10k batches) and therefore save and evaluate the model less often.\n",
    "\n",
    "TRAIN_EPOCHS = 10  # passes through the entire train dataset\n",
    "EPOCH_SPLIT = 20  # number of parts in which to split the train dataset\n",
    "SPLIT_EPOCHS = TRAIN_EPOCHS * EPOCH_SPLIT  # number of epochs in model.fit()"
   ]
  },
  {
   "cell_type": "code",
   "execution_count": 217,
   "metadata": {},
   "outputs": [],
   "source": [
    "# NOTE using the minimal input length for CONV models increases the training\n",
    "# NOTE speed but also the number of training and validation examples\n",
    "\n",
    "# make the datasets required to train our choice of models\n",
    "kds = {x: KeysDatasets(x, keys=dataframes.keys()) for x in (36, 96)}\n",
    "\n",
    "# create the selected models; the dict key is the model name\n",
    "models: dict[str, tf.keras.Model] = dict()\n",
    "\n",
    "models[\"DENS-96\"] = make_dense_model(96)\n",
    "models[\"CONV-5577\"] = make_conv_model((5, 5, 7, 7))\n",
    "models[\"LSTM-232\"] = make_lstm_model(2, 32)  # train on input_length = 96"
   ]
  },
  {
   "cell_type": "code",
   "execution_count": 218,
   "metadata": {},
   "outputs": [],
   "source": [
    "# NOTE Monitor training via TensorBoard by running\n",
    "# NOTE tensorboard --logdir log/tensorboard\n",
    "\n",
    "\n",
    "def train(model: tf.keras.Model, ds: KeysDatasets):\n",
    "    # make sub-directories for the model\n",
    "    os.makedirs(os.path.join(\"log\", \"tensorboard\", model.name), exist_ok=True)\n",
    "    os.makedirs(os.path.join(\"weights\", model.name), exist_ok=True)\n",
    "\n",
    "    steps_per_epoch = ds.length[\"train\"] // EPOCH_SPLIT\n",
    "\n",
    "    checkpoint = tf.keras.callbacks.ModelCheckpoint(\n",
    "        filepath=os.path.join(\n",
    "            \"weights\", model.name, model.name + \"-{epoch:03d}.weights.h5\"\n",
    "        ),\n",
    "        save_weights_only=True,\n",
    "    )\n",
    "\n",
    "    tb_logger = tf.keras.callbacks.TensorBoard(\n",
    "        log_dir=os.path.join(\"log\", \"tensorboard\", model.name)\n",
    "    )\n",
    "\n",
    "    # NOTE change to append=True if restarting training\n",
    "    csv_logger = tf.keras.callbacks.CSVLogger(\n",
    "        filename=os.path.join(\"log\", \"history\", f\"{model.name}.csv\"), append=False\n",
    "    )\n",
    "\n",
    "    # train for at least half the epochs before possibly stopping\n",
    "    early_stopping = tf.keras.callbacks.EarlyStopping(\n",
    "        monitor=\"val_loss\", patience=5, start_from_epoch=(SPLIT_EPOCHS // 2)\n",
    "    )\n",
    "\n",
    "    _ = model.fit(\n",
    "        ds.train.repeat(),\n",
    "        validation_data=ds.valid,\n",
    "        epochs=SPLIT_EPOCHS,\n",
    "        steps_per_epoch=steps_per_epoch,\n",
    "        callbacks=[checkpoint, tb_logger, csv_logger, early_stopping],\n",
    "    )"
   ]
  },
  {
   "cell_type": "code",
   "execution_count": 219,
   "metadata": {},
   "outputs": [],
   "source": [
    "def plot_training_history(model_name: str) -> go.Figure:\n",
    "    df = pl.read_csv(os.path.join(\"log\", \"history\", f\"{model_name}.csv\"))\n",
    "\n",
    "    fig = px.line(\n",
    "        data_frame=df,\n",
    "        x=\"epoch\",\n",
    "        y=[\"loss\", \"val_loss\"],\n",
    "        title=f\"training history of model {model_name}\",\n",
    "    )\n",
    "\n",
    "    # add a marker indicating the lowest val_loss\n",
    "    min_df = df.filter(pl.col(\"val_loss\") == pl.col(\"val_loss\").min())\n",
    "    epoch, val_loss = min_df[\"epoch\"][0], min_df[\"val_loss\"][0]\n",
    "\n",
    "    fig.add_trace(\n",
    "        go.Scatter(\n",
    "            x=[epoch],\n",
    "            y=[val_loss],\n",
    "            mode=\"markers\",\n",
    "            marker_size=10,\n",
    "            marker_symbol=\"circle\",\n",
    "            name=\"min val_loss\",\n",
    "        )\n",
    "    )\n",
    "\n",
    "    return fig"
   ]
  },
  {
   "cell_type": "markdown",
   "metadata": {},
   "source": [
    "## Train the models"
   ]
  },
  {
   "cell_type": "code",
   "execution_count": null,
   "metadata": {},
   "outputs": [],
   "source": [
    "%%script echo skipping\n",
    "\n",
    "train(models[\"DENS-96\"], kds[96])"
   ]
  },
  {
   "cell_type": "code",
   "execution_count": 221,
   "metadata": {},
   "outputs": [
    {
     "data": {
      "application/vnd.plotly.v1+json": {
       "config": {
        "plotlyServerURL": "https://plot.ly"
       },
       "data": [
        {
         "hovertemplate": "variable=loss<br>epoch=%{x}<br>value=%{y}<extra></extra>",
         "legendgroup": "loss",
         "line": {
          "color": "#636efa",
          "dash": "solid"
         },
         "marker": {
          "symbol": "circle"
         },
         "mode": "lines",
         "name": "loss",
         "orientation": "v",
         "showlegend": true,
         "type": "scatter",
         "x": [
          0,
          1,
          2,
          3,
          4,
          5,
          6,
          7,
          8,
          9,
          10,
          11,
          12,
          13,
          14,
          15,
          16,
          17,
          18,
          19,
          20,
          21,
          22,
          23,
          24,
          25,
          26,
          27,
          28,
          29,
          30,
          31,
          32,
          33,
          34,
          35,
          36,
          37,
          38,
          39,
          40,
          41,
          42,
          43,
          44,
          45,
          46,
          47,
          48,
          49,
          50,
          51,
          52,
          53,
          54,
          55,
          56,
          57,
          58,
          59,
          60,
          61,
          62,
          63,
          64,
          65,
          66,
          67,
          68,
          69,
          70,
          71,
          72,
          73,
          74,
          75,
          76,
          77,
          78,
          79,
          80,
          81,
          82,
          83,
          84,
          85,
          86,
          87,
          88,
          89,
          90,
          91,
          92,
          93,
          94,
          95,
          96,
          97,
          98,
          99,
          100,
          101,
          102,
          103,
          104,
          105,
          106,
          107,
          108,
          109,
          110,
          111
         ],
         "xaxis": "x",
         "y": [
          0.39817893505096436,
          0.3650113046169281,
          0.33148688077926636,
          1.0670852661132812,
          0.3932693302631378,
          0.3222867548465729,
          0.7598468065261841,
          0.3545023202896118,
          0.3404853045940399,
          0.36733508110046387,
          0.34292709827423096,
          0.3208431899547577,
          0.4039485454559326,
          0.43119290471076965,
          0.3669738471508026,
          0.3575061559677124,
          0.3346651792526245,
          0.41705337166786194,
          0.29291415214538574,
          0.3185330033302307,
          0.34692680835723877,
          0.3906713128089905,
          0.31358712911605835,
          0.9945456385612488,
          0.36877551674842834,
          0.31742063164711,
          0.7233052849769592,
          0.33714544773101807,
          0.32670339941978455,
          0.3487437069416046,
          0.32684093713760376,
          0.32047614455223083,
          0.37387245893478394,
          0.41464588046073914,
          0.3483983874320984,
          0.33577480912208557,
          0.31429821252822876,
          0.420387327671051,
          0.28304028511047363,
          0.30751314759254456,
          0.33007752895355225,
          0.3768112361431122,
          0.3029843866825104,
          0.9113737344741821,
          0.3495211601257324,
          0.30749091506004333,
          0.6713159680366516,
          0.32029637694358826,
          0.31935828924179077,
          0.3372836112976074,
          0.31567540764808655,
          0.2965371608734131,
          0.35413435101509094,
          0.3952380120754242,
          0.3263293206691742,
          0.3384585678577423,
          0.31004437804222107,
          0.38660579919815063,
          0.2733304798603058,
          0.2944149971008301,
          0.31357651948928833,
          0.34503084421157837,
          0.29652056097984314,
          0.8286030292510986,
          0.33466771245002747,
          0.30092179775238037,
          0.6206013560295105,
          0.30801060795783997,
          0.30624857544898987,
          0.3309895396232605,
          0.30799734592437744,
          0.2841247022151947,
          0.3267340064048767,
          0.3831828534603119,
          0.31967735290527344,
          0.2992456555366516,
          0.28271710872650146,
          0.37279030680656433,
          0.26773127913475037,
          0.2826792895793915,
          0.3014598488807678,
          0.3172943890094757,
          0.29052671790122986,
          0.7011839151382446,
          0.3269701600074768,
          0.2882551848888397,
          0.5436976552009583,
          0.29851198196411133,
          0.29928112030029297,
          0.32745471596717834,
          0.30503034591674805,
          0.2746938467025757,
          0.32949697971343994,
          0.37535643577575684,
          0.32703617215156555,
          0.3066651225090027,
          0.2700634002685547,
          0.3625496029853821,
          0.2635704576969147,
          0.26528650522232056,
          0.3286624848842621,
          0.30494123697280884,
          0.28532469272613525,
          0.6349390149116516,
          0.3215674161911011,
          0.2758827805519104,
          0.4967408776283264,
          0.29395589232444763,
          0.28999239206314087,
          0.32191020250320435,
          0.30213111639022827,
          0.27105581760406494
         ],
         "yaxis": "y"
        },
        {
         "hovertemplate": "variable=val_loss<br>epoch=%{x}<br>value=%{y}<extra></extra>",
         "legendgroup": "val_loss",
         "line": {
          "color": "#EF553B",
          "dash": "solid"
         },
         "marker": {
          "symbol": "circle"
         },
         "mode": "lines",
         "name": "val_loss",
         "orientation": "v",
         "showlegend": true,
         "type": "scatter",
         "x": [
          0,
          1,
          2,
          3,
          4,
          5,
          6,
          7,
          8,
          9,
          10,
          11,
          12,
          13,
          14,
          15,
          16,
          17,
          18,
          19,
          20,
          21,
          22,
          23,
          24,
          25,
          26,
          27,
          28,
          29,
          30,
          31,
          32,
          33,
          34,
          35,
          36,
          37,
          38,
          39,
          40,
          41,
          42,
          43,
          44,
          45,
          46,
          47,
          48,
          49,
          50,
          51,
          52,
          53,
          54,
          55,
          56,
          57,
          58,
          59,
          60,
          61,
          62,
          63,
          64,
          65,
          66,
          67,
          68,
          69,
          70,
          71,
          72,
          73,
          74,
          75,
          76,
          77,
          78,
          79,
          80,
          81,
          82,
          83,
          84,
          85,
          86,
          87,
          88,
          89,
          90,
          91,
          92,
          93,
          94,
          95,
          96,
          97,
          98,
          99,
          100,
          101,
          102,
          103,
          104,
          105,
          106,
          107,
          108,
          109,
          110,
          111
         ],
         "xaxis": "x",
         "y": [
          0.24645593762397766,
          0.24391986429691315,
          0.24330207705497742,
          0.24055974185466766,
          0.23953647911548615,
          0.23922179639339447,
          0.23810024559497833,
          0.2366914302110672,
          0.23743394017219543,
          0.23558872938156128,
          0.2345995008945465,
          0.2370862066745758,
          0.23738665878772736,
          0.23363381624221802,
          0.22661127150058746,
          0.21996857225894928,
          0.22408325970172882,
          0.22374792397022247,
          0.22047917544841766,
          0.21790729463100433,
          0.22157475352287292,
          0.22238852083683014,
          0.22121691703796387,
          0.21722561120986938,
          0.21696703135967255,
          0.21759377419948578,
          0.2161993682384491,
          0.208240807056427,
          0.2224913388490677,
          0.21808309853076935,
          0.21706467866897583,
          0.22555480897426605,
          0.2263515591621399,
          0.2220882773399353,
          0.21689677238464355,
          0.21516011655330658,
          0.21626520156860352,
          0.21583518385887146,
          0.2139853835105896,
          0.21142297983169556,
          0.2126154899597168,
          0.216122567653656,
          0.21296949684619904,
          0.2068682760000229,
          0.2078128606081009,
          0.20907285809516907,
          0.20733529329299927,
          0.21223779022693634,
          0.2121874839067459,
          0.20668230950832367,
          0.20676304399967194,
          0.21226291358470917,
          0.21119424700737,
          0.20810063183307648,
          0.20850124955177307,
          0.20821502804756165,
          0.20916889607906342,
          0.21275775134563446,
          0.20943568646907806,
          0.20612993836402893,
          0.20514363050460815,
          0.2133573442697525,
          0.20649276673793793,
          0.1908976286649704,
          0.19837477803230286,
          0.2009725570678711,
          0.19371077418327332,
          0.19779662787914276,
          0.19680258631706238,
          0.1956942081451416,
          0.19560612738132477,
          0.1982395052909851,
          0.19962245225906372,
          0.1956946849822998,
          0.19236548244953156,
          0.19474199414253235,
          0.1951206624507904,
          0.19790396094322205,
          0.1960611790418625,
          0.1947946399450302,
          0.19284312427043915,
          0.19530539214611053,
          0.1921207457780838,
          0.18282203376293182,
          0.18422886729240417,
          0.18706679344177246,
          0.1822233349084854,
          0.18361592292785645,
          0.18602365255355835,
          0.1897265464067459,
          0.19052599370479584,
          0.19162140786647797,
          0.18979018926620483,
          0.18823488056659698,
          0.18567153811454773,
          0.19225774705410004,
          0.1961349993944168,
          0.19721731543540955,
          0.19424737989902496,
          0.1955566704273224,
          0.1924411803483963,
          0.19314390420913696,
          0.19338209927082062,
          0.18262463808059692,
          0.1850314438343048,
          0.18711867928504944,
          0.18241845071315765,
          0.18399983644485474,
          0.18583661317825317,
          0.18876156210899353,
          0.18963730335235596,
          0.18990272283554077
         ],
         "yaxis": "y"
        },
        {
         "marker": {
          "size": 10,
          "symbol": "circle"
         },
         "mode": "markers",
         "name": "min val_loss",
         "type": "scatter",
         "x": [
          86
         ],
         "y": [
          0.1822233349084854
         ]
        }
       ],
       "layout": {
        "legend": {
         "title": {
          "text": "variable"
         },
         "tracegroupgap": 0
        },
        "template": {
         "data": {
          "bar": [
           {
            "error_x": {
             "color": "#f2f5fa"
            },
            "error_y": {
             "color": "#f2f5fa"
            },
            "marker": {
             "line": {
              "color": "rgb(17,17,17)",
              "width": 0.5
             },
             "pattern": {
              "fillmode": "overlay",
              "size": 10,
              "solidity": 0.2
             }
            },
            "type": "bar"
           }
          ],
          "barpolar": [
           {
            "marker": {
             "line": {
              "color": "rgb(17,17,17)",
              "width": 0.5
             },
             "pattern": {
              "fillmode": "overlay",
              "size": 10,
              "solidity": 0.2
             }
            },
            "type": "barpolar"
           }
          ],
          "carpet": [
           {
            "aaxis": {
             "endlinecolor": "#A2B1C6",
             "gridcolor": "#506784",
             "linecolor": "#506784",
             "minorgridcolor": "#506784",
             "startlinecolor": "#A2B1C6"
            },
            "baxis": {
             "endlinecolor": "#A2B1C6",
             "gridcolor": "#506784",
             "linecolor": "#506784",
             "minorgridcolor": "#506784",
             "startlinecolor": "#A2B1C6"
            },
            "type": "carpet"
           }
          ],
          "choropleth": [
           {
            "colorbar": {
             "outlinewidth": 0,
             "ticks": ""
            },
            "type": "choropleth"
           }
          ],
          "contour": [
           {
            "colorbar": {
             "outlinewidth": 0,
             "ticks": ""
            },
            "colorscale": [
             [
              0,
              "#0d0887"
             ],
             [
              0.1111111111111111,
              "#46039f"
             ],
             [
              0.2222222222222222,
              "#7201a8"
             ],
             [
              0.3333333333333333,
              "#9c179e"
             ],
             [
              0.4444444444444444,
              "#bd3786"
             ],
             [
              0.5555555555555556,
              "#d8576b"
             ],
             [
              0.6666666666666666,
              "#ed7953"
             ],
             [
              0.7777777777777778,
              "#fb9f3a"
             ],
             [
              0.8888888888888888,
              "#fdca26"
             ],
             [
              1,
              "#f0f921"
             ]
            ],
            "type": "contour"
           }
          ],
          "contourcarpet": [
           {
            "colorbar": {
             "outlinewidth": 0,
             "ticks": ""
            },
            "type": "contourcarpet"
           }
          ],
          "heatmap": [
           {
            "colorbar": {
             "outlinewidth": 0,
             "ticks": ""
            },
            "colorscale": [
             [
              0,
              "#0d0887"
             ],
             [
              0.1111111111111111,
              "#46039f"
             ],
             [
              0.2222222222222222,
              "#7201a8"
             ],
             [
              0.3333333333333333,
              "#9c179e"
             ],
             [
              0.4444444444444444,
              "#bd3786"
             ],
             [
              0.5555555555555556,
              "#d8576b"
             ],
             [
              0.6666666666666666,
              "#ed7953"
             ],
             [
              0.7777777777777778,
              "#fb9f3a"
             ],
             [
              0.8888888888888888,
              "#fdca26"
             ],
             [
              1,
              "#f0f921"
             ]
            ],
            "type": "heatmap"
           }
          ],
          "heatmapgl": [
           {
            "colorbar": {
             "outlinewidth": 0,
             "ticks": ""
            },
            "colorscale": [
             [
              0,
              "#0d0887"
             ],
             [
              0.1111111111111111,
              "#46039f"
             ],
             [
              0.2222222222222222,
              "#7201a8"
             ],
             [
              0.3333333333333333,
              "#9c179e"
             ],
             [
              0.4444444444444444,
              "#bd3786"
             ],
             [
              0.5555555555555556,
              "#d8576b"
             ],
             [
              0.6666666666666666,
              "#ed7953"
             ],
             [
              0.7777777777777778,
              "#fb9f3a"
             ],
             [
              0.8888888888888888,
              "#fdca26"
             ],
             [
              1,
              "#f0f921"
             ]
            ],
            "type": "heatmapgl"
           }
          ],
          "histogram": [
           {
            "marker": {
             "pattern": {
              "fillmode": "overlay",
              "size": 10,
              "solidity": 0.2
             }
            },
            "type": "histogram"
           }
          ],
          "histogram2d": [
           {
            "colorbar": {
             "outlinewidth": 0,
             "ticks": ""
            },
            "colorscale": [
             [
              0,
              "#0d0887"
             ],
             [
              0.1111111111111111,
              "#46039f"
             ],
             [
              0.2222222222222222,
              "#7201a8"
             ],
             [
              0.3333333333333333,
              "#9c179e"
             ],
             [
              0.4444444444444444,
              "#bd3786"
             ],
             [
              0.5555555555555556,
              "#d8576b"
             ],
             [
              0.6666666666666666,
              "#ed7953"
             ],
             [
              0.7777777777777778,
              "#fb9f3a"
             ],
             [
              0.8888888888888888,
              "#fdca26"
             ],
             [
              1,
              "#f0f921"
             ]
            ],
            "type": "histogram2d"
           }
          ],
          "histogram2dcontour": [
           {
            "colorbar": {
             "outlinewidth": 0,
             "ticks": ""
            },
            "colorscale": [
             [
              0,
              "#0d0887"
             ],
             [
              0.1111111111111111,
              "#46039f"
             ],
             [
              0.2222222222222222,
              "#7201a8"
             ],
             [
              0.3333333333333333,
              "#9c179e"
             ],
             [
              0.4444444444444444,
              "#bd3786"
             ],
             [
              0.5555555555555556,
              "#d8576b"
             ],
             [
              0.6666666666666666,
              "#ed7953"
             ],
             [
              0.7777777777777778,
              "#fb9f3a"
             ],
             [
              0.8888888888888888,
              "#fdca26"
             ],
             [
              1,
              "#f0f921"
             ]
            ],
            "type": "histogram2dcontour"
           }
          ],
          "mesh3d": [
           {
            "colorbar": {
             "outlinewidth": 0,
             "ticks": ""
            },
            "type": "mesh3d"
           }
          ],
          "parcoords": [
           {
            "line": {
             "colorbar": {
              "outlinewidth": 0,
              "ticks": ""
             }
            },
            "type": "parcoords"
           }
          ],
          "pie": [
           {
            "automargin": true,
            "type": "pie"
           }
          ],
          "scatter": [
           {
            "marker": {
             "line": {
              "color": "#283442"
             }
            },
            "type": "scatter"
           }
          ],
          "scatter3d": [
           {
            "line": {
             "colorbar": {
              "outlinewidth": 0,
              "ticks": ""
             }
            },
            "marker": {
             "colorbar": {
              "outlinewidth": 0,
              "ticks": ""
             }
            },
            "type": "scatter3d"
           }
          ],
          "scattercarpet": [
           {
            "marker": {
             "colorbar": {
              "outlinewidth": 0,
              "ticks": ""
             }
            },
            "type": "scattercarpet"
           }
          ],
          "scattergeo": [
           {
            "marker": {
             "colorbar": {
              "outlinewidth": 0,
              "ticks": ""
             }
            },
            "type": "scattergeo"
           }
          ],
          "scattergl": [
           {
            "marker": {
             "line": {
              "color": "#283442"
             }
            },
            "type": "scattergl"
           }
          ],
          "scattermapbox": [
           {
            "marker": {
             "colorbar": {
              "outlinewidth": 0,
              "ticks": ""
             }
            },
            "type": "scattermapbox"
           }
          ],
          "scatterpolar": [
           {
            "marker": {
             "colorbar": {
              "outlinewidth": 0,
              "ticks": ""
             }
            },
            "type": "scatterpolar"
           }
          ],
          "scatterpolargl": [
           {
            "marker": {
             "colorbar": {
              "outlinewidth": 0,
              "ticks": ""
             }
            },
            "type": "scatterpolargl"
           }
          ],
          "scatterternary": [
           {
            "marker": {
             "colorbar": {
              "outlinewidth": 0,
              "ticks": ""
             }
            },
            "type": "scatterternary"
           }
          ],
          "surface": [
           {
            "colorbar": {
             "outlinewidth": 0,
             "ticks": ""
            },
            "colorscale": [
             [
              0,
              "#0d0887"
             ],
             [
              0.1111111111111111,
              "#46039f"
             ],
             [
              0.2222222222222222,
              "#7201a8"
             ],
             [
              0.3333333333333333,
              "#9c179e"
             ],
             [
              0.4444444444444444,
              "#bd3786"
             ],
             [
              0.5555555555555556,
              "#d8576b"
             ],
             [
              0.6666666666666666,
              "#ed7953"
             ],
             [
              0.7777777777777778,
              "#fb9f3a"
             ],
             [
              0.8888888888888888,
              "#fdca26"
             ],
             [
              1,
              "#f0f921"
             ]
            ],
            "type": "surface"
           }
          ],
          "table": [
           {
            "cells": {
             "fill": {
              "color": "#506784"
             },
             "line": {
              "color": "rgb(17,17,17)"
             }
            },
            "header": {
             "fill": {
              "color": "#2a3f5f"
             },
             "line": {
              "color": "rgb(17,17,17)"
             }
            },
            "type": "table"
           }
          ]
         },
         "layout": {
          "annotationdefaults": {
           "arrowcolor": "#f2f5fa",
           "arrowhead": 0,
           "arrowwidth": 1
          },
          "autotypenumbers": "strict",
          "coloraxis": {
           "colorbar": {
            "outlinewidth": 0,
            "ticks": ""
           }
          },
          "colorscale": {
           "diverging": [
            [
             0,
             "#8e0152"
            ],
            [
             0.1,
             "#c51b7d"
            ],
            [
             0.2,
             "#de77ae"
            ],
            [
             0.3,
             "#f1b6da"
            ],
            [
             0.4,
             "#fde0ef"
            ],
            [
             0.5,
             "#f7f7f7"
            ],
            [
             0.6,
             "#e6f5d0"
            ],
            [
             0.7,
             "#b8e186"
            ],
            [
             0.8,
             "#7fbc41"
            ],
            [
             0.9,
             "#4d9221"
            ],
            [
             1,
             "#276419"
            ]
           ],
           "sequential": [
            [
             0,
             "#0d0887"
            ],
            [
             0.1111111111111111,
             "#46039f"
            ],
            [
             0.2222222222222222,
             "#7201a8"
            ],
            [
             0.3333333333333333,
             "#9c179e"
            ],
            [
             0.4444444444444444,
             "#bd3786"
            ],
            [
             0.5555555555555556,
             "#d8576b"
            ],
            [
             0.6666666666666666,
             "#ed7953"
            ],
            [
             0.7777777777777778,
             "#fb9f3a"
            ],
            [
             0.8888888888888888,
             "#fdca26"
            ],
            [
             1,
             "#f0f921"
            ]
           ],
           "sequentialminus": [
            [
             0,
             "#0d0887"
            ],
            [
             0.1111111111111111,
             "#46039f"
            ],
            [
             0.2222222222222222,
             "#7201a8"
            ],
            [
             0.3333333333333333,
             "#9c179e"
            ],
            [
             0.4444444444444444,
             "#bd3786"
            ],
            [
             0.5555555555555556,
             "#d8576b"
            ],
            [
             0.6666666666666666,
             "#ed7953"
            ],
            [
             0.7777777777777778,
             "#fb9f3a"
            ],
            [
             0.8888888888888888,
             "#fdca26"
            ],
            [
             1,
             "#f0f921"
            ]
           ]
          },
          "colorway": [
           "#636efa",
           "#EF553B",
           "#00cc96",
           "#ab63fa",
           "#FFA15A",
           "#19d3f3",
           "#FF6692",
           "#B6E880",
           "#FF97FF",
           "#FECB52"
          ],
          "font": {
           "color": "#f2f5fa"
          },
          "geo": {
           "bgcolor": "rgb(17,17,17)",
           "lakecolor": "rgb(17,17,17)",
           "landcolor": "rgb(17,17,17)",
           "showlakes": true,
           "showland": true,
           "subunitcolor": "#506784"
          },
          "hoverlabel": {
           "align": "left"
          },
          "hovermode": "closest",
          "mapbox": {
           "style": "dark"
          },
          "paper_bgcolor": "rgb(17,17,17)",
          "plot_bgcolor": "rgb(17,17,17)",
          "polar": {
           "angularaxis": {
            "gridcolor": "#506784",
            "linecolor": "#506784",
            "ticks": ""
           },
           "bgcolor": "rgb(17,17,17)",
           "radialaxis": {
            "gridcolor": "#506784",
            "linecolor": "#506784",
            "ticks": ""
           }
          },
          "scene": {
           "xaxis": {
            "backgroundcolor": "rgb(17,17,17)",
            "gridcolor": "#506784",
            "gridwidth": 2,
            "linecolor": "#506784",
            "showbackground": true,
            "ticks": "",
            "zerolinecolor": "#C8D4E3"
           },
           "yaxis": {
            "backgroundcolor": "rgb(17,17,17)",
            "gridcolor": "#506784",
            "gridwidth": 2,
            "linecolor": "#506784",
            "showbackground": true,
            "ticks": "",
            "zerolinecolor": "#C8D4E3"
           },
           "zaxis": {
            "backgroundcolor": "rgb(17,17,17)",
            "gridcolor": "#506784",
            "gridwidth": 2,
            "linecolor": "#506784",
            "showbackground": true,
            "ticks": "",
            "zerolinecolor": "#C8D4E3"
           }
          },
          "shapedefaults": {
           "line": {
            "color": "#f2f5fa"
           }
          },
          "sliderdefaults": {
           "bgcolor": "#C8D4E3",
           "bordercolor": "rgb(17,17,17)",
           "borderwidth": 1,
           "tickwidth": 0
          },
          "ternary": {
           "aaxis": {
            "gridcolor": "#506784",
            "linecolor": "#506784",
            "ticks": ""
           },
           "baxis": {
            "gridcolor": "#506784",
            "linecolor": "#506784",
            "ticks": ""
           },
           "bgcolor": "rgb(17,17,17)",
           "caxis": {
            "gridcolor": "#506784",
            "linecolor": "#506784",
            "ticks": ""
           }
          },
          "title": {
           "x": 0.05
          },
          "updatemenudefaults": {
           "bgcolor": "#506784",
           "borderwidth": 0
          },
          "xaxis": {
           "automargin": true,
           "gridcolor": "#283442",
           "linecolor": "#506784",
           "ticks": "",
           "title": {
            "standoff": 15
           },
           "zerolinecolor": "#283442",
           "zerolinewidth": 2
          },
          "yaxis": {
           "automargin": true,
           "gridcolor": "#283442",
           "linecolor": "#506784",
           "ticks": "",
           "title": {
            "standoff": 15
           },
           "zerolinecolor": "#283442",
           "zerolinewidth": 2
          }
         }
        },
        "title": {
         "text": "training history of model DENS-96"
        },
        "xaxis": {
         "anchor": "y",
         "domain": [
          0,
          1
         ],
         "title": {
          "text": "epoch"
         }
        },
        "yaxis": {
         "anchor": "x",
         "domain": [
          0,
          1
         ],
         "title": {
          "text": "value"
         }
        }
       }
      }
     },
     "metadata": {},
     "output_type": "display_data"
    }
   ],
   "source": [
    "plot_training_history(\"DENS-96\")"
   ]
  },
  {
   "cell_type": "code",
   "execution_count": null,
   "metadata": {},
   "outputs": [],
   "source": [
    "# TODO train CONV model"
   ]
  },
  {
   "cell_type": "code",
   "execution_count": null,
   "metadata": {},
   "outputs": [],
   "source": [
    "# TODO train LSTM model"
   ]
  },
  {
   "cell_type": "code",
   "execution_count": 222,
   "metadata": {},
   "outputs": [],
   "source": [
    "# TODO load best weights for each model\n",
    "\n",
    "# list the models that have been trained by reading the 'history' directory\n",
    "trained_models = [\n",
    "    os.path.splitext(file)[0] for file in os.listdir(os.path.join(\"log\", \"history\"))\n",
    "]\n",
    "\n",
    "# find the epoch with the lowest validation loss for each trained model\n",
    "trained_models = {\n",
    "    model_name: pl.read_csv(os.path.join(\"log\", \"history\", f\"{model_name}.csv\")).filter(\n",
    "        pl.col(\"val_loss\") == pl.col(\"val_loss\").min()\n",
    "    )[\"epoch\"][0]\n",
    "    for model_name in trained_models\n",
    "}\n",
    "\n",
    "for name in trained_models:\n",
    "    epoch = trained_models[name]\n",
    "    models[name].load_weights(\n",
    "        os.path.join(\"weights\", name, f\"{name}-{epoch:03d}.weights.h5\")\n",
    "    )"
   ]
  },
  {
   "cell_type": "code",
   "execution_count": 290,
   "metadata": {},
   "outputs": [],
   "source": [
    "# TODO eval all models on the same validation data to compare"
   ]
  },
  {
   "cell_type": "markdown",
   "metadata": {},
   "source": [
    "---\n",
    "# EVALUATION\n",
    "---"
   ]
  },
  {
   "cell_type": "code",
   "execution_count": 85,
   "metadata": {},
   "outputs": [],
   "source": [
    "# TODO add the 'gap' dataframes back to the 'dataframes' dict"
   ]
  },
  {
   "cell_type": "code",
   "execution_count": 223,
   "metadata": {},
   "outputs": [],
   "source": [
    "# gather all data necessary to predict the test set in `dataframes`\n",
    "for key in dataframes.keys():\n",
    "    dataframes[key] = pl.concat([dataframes[key], test_dataframes[key]], how=\"vertical\")\n",
    "\n",
    "# delete the test dataframes to avoid concatenating again if the cell runs again\n",
    "del test_dataframes"
   ]
  },
  {
   "cell_type": "code",
   "execution_count": 224,
   "metadata": {},
   "outputs": [],
   "source": [
    "def make_inputs(key: str, input_length: int) -> tuple[tf.Tensor, tf.Tensor]:\n",
    "    \"\"\"Makes the inputs pair corresponding to the last window of `dataframe[key]`.\"\"\"\n",
    "\n",
    "    # select and scale the last window of the dataframe\n",
    "    df = (\n",
    "        dataframes[key]\n",
    "        .select([\"sales\"] + METADATA_COLS)\n",
    "        .tail(input_length + TARGET_LENGTH)\n",
    "    )\n",
    "\n",
    "    # make the inputs and convert them to tensors with batch dimension\n",
    "    # 1st input: x-window sales and metadata values\n",
    "    # 2nd input: y-window metadata values\n",
    "    x_win = tf.expand_dims(df.head(input_length), 0)\n",
    "    y_m = tf.expand_dims(df.tail(TARGET_LENGTH).select(METADATA_COLS), 0)\n",
    "\n",
    "    return (x_win, y_m)"
   ]
  },
  {
   "cell_type": "code",
   "execution_count": 225,
   "metadata": {},
   "outputs": [],
   "source": [
    "def predict(model: tf.keras.Model, key: str, input_length: int) -> pl.DataFrame:\n",
    "    pred = model(make_inputs(key, input_length))\n",
    "    pred_df = pl.DataFrame({\"sales\": tf.squeeze(pred).numpy()})\n",
    "\n",
    "    return pred_df"
   ]
  },
  {
   "cell_type": "markdown",
   "metadata": {},
   "source": [
    "---"
   ]
  },
  {
   "cell_type": "markdown",
   "metadata": {},
   "source": [
    "## Evaluate DENS-96"
   ]
  },
  {
   "cell_type": "code",
   "execution_count": 337,
   "metadata": {},
   "outputs": [],
   "source": [
    "# TODO clean section\n"
   ]
  },
  {
   "cell_type": "code",
   "execution_count": null,
   "metadata": {},
   "outputs": [],
   "source": [
    "model = models[\"DENS-96\"]\n",
    "_ = model.evaluate(kds[96].valid)"
   ]
  },
  {
   "cell_type": "code",
   "execution_count": 227,
   "metadata": {},
   "outputs": [],
   "source": [
    "preds = pl.DataFrame({f\"{key}\": predict(model, key, 96) for key in dataframes.keys()})\n",
    "\n",
    "rmsle_df = pl.DataFrame(\n",
    "    {\n",
    "        f\"{key}\": LOSS(\n",
    "            tf.squeeze(preds[f\"{key}\"]),\n",
    "            tf.squeeze(dataframes[key].tail(TARGET_LENGTH)[\"sales\"]),\n",
    "        )\n",
    "        ** 0.5\n",
    "        for key in dataframes.keys()\n",
    "    }\n",
    ")"
   ]
  },
  {
   "cell_type": "code",
   "execution_count": 228,
   "metadata": {},
   "outputs": [
    {
     "data": {
      "text/html": [
       "<div><style>\n",
       ".dataframe > thead > tr,\n",
       ".dataframe > tbody > tr {\n",
       "  text-align: right;\n",
       "  white-space: pre-wrap;\n",
       "}\n",
       "</style>\n",
       "<small>shape: (9, 2)</small><table border=\"1\" class=\"dataframe\"><thead><tr><th>statistic</th><th>DENS-96</th></tr><tr><td>str</td><td>f64</td></tr></thead><tbody><tr><td>&quot;count&quot;</td><td>1478.0</td></tr><tr><td>&quot;null_count&quot;</td><td>0.0</td></tr><tr><td>&quot;mean&quot;</td><td>0.385814</td></tr><tr><td>&quot;std&quot;</td><td>0.318559</td></tr><tr><td>&quot;min&quot;</td><td>0.077698</td></tr><tr><td>&quot;25%&quot;</td><td>0.200124</td></tr><tr><td>&quot;50%&quot;</td><td>0.328645</td></tr><tr><td>&quot;75%&quot;</td><td>0.499276</td></tr><tr><td>&quot;max&quot;</td><td>4.142112</td></tr></tbody></table></div>"
      ],
      "text/plain": [
       "shape: (9, 2)\n",
       "┌────────────┬──────────┐\n",
       "│ statistic  ┆ DENS-96  │\n",
       "│ ---        ┆ ---      │\n",
       "│ str        ┆ f64      │\n",
       "╞════════════╪══════════╡\n",
       "│ count      ┆ 1478.0   │\n",
       "│ null_count ┆ 0.0      │\n",
       "│ mean       ┆ 0.385814 │\n",
       "│ std        ┆ 0.318559 │\n",
       "│ min        ┆ 0.077698 │\n",
       "│ 25%        ┆ 0.200124 │\n",
       "│ 50%        ┆ 0.328645 │\n",
       "│ 75%        ┆ 0.499276 │\n",
       "│ max        ┆ 4.142112 │\n",
       "└────────────┴──────────┘"
      ]
     },
     "execution_count": 228,
     "metadata": {},
     "output_type": "execute_result"
    }
   ],
   "source": [
    "rmsle_df.transpose(column_names=[\"DENS-96\"]).describe()"
   ]
  }
 ],
 "metadata": {
  "kernelspec": {
   "display_name": "tf",
   "language": "python",
   "name": "python3"
  },
  "language_info": {
   "codemirror_mode": {
    "name": "ipython",
    "version": 3
   },
   "file_extension": ".py",
   "mimetype": "text/x-python",
   "name": "python",
   "nbconvert_exporter": "python",
   "pygments_lexer": "ipython3",
   "version": "3.11.5"
  }
 },
 "nbformat": 4,
 "nbformat_minor": 2
}
