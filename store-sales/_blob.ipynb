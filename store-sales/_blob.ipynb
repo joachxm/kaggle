{
 "cells": [
  {
   "cell_type": "code",
   "execution_count": 1,
   "metadata": {
    "metadata": {}
   },
   "outputs": [
    {
     "name": "stderr",
     "output_type": "stream",
     "text": [
      "2024-05-12 15:52:20.964173: I tensorflow/core/platform/cpu_feature_guard.cc:182] This TensorFlow binary is optimized to use available CPU instructions in performance-critical operations.\n",
      "To enable the following instructions: SSE4.1 SSE4.2 AVX AVX2 FMA, in other operations, rebuild TensorFlow with the appropriate compiler flags.\n"
     ]
    },
    {
     "name": "stdout",
     "output_type": "stream",
     "text": [
      "TensorFlow version: 2.15.0\n"
     ]
    },
    {
     "data": {
      "text/html": [
       "        <script type=\"text/javascript\">\n",
       "        window.PlotlyConfig = {MathJaxConfig: 'local'};\n",
       "        if (window.MathJax && window.MathJax.Hub && window.MathJax.Hub.Config) {window.MathJax.Hub.Config({SVG: {font: \"STIX-Web\"}});}\n",
       "        if (typeof require !== 'undefined') {\n",
       "        require.undef(\"plotly\");\n",
       "        requirejs.config({\n",
       "            paths: {\n",
       "                'plotly': ['https://cdn.plot.ly/plotly-2.29.1.min']\n",
       "            }\n",
       "        });\n",
       "        require(['plotly'], function(Plotly) {\n",
       "            window._Plotly = Plotly;\n",
       "        });\n",
       "        }\n",
       "        </script>\n",
       "        "
      ]
     },
     "metadata": {},
     "output_type": "display_data"
    }
   ],
   "source": [
    "import datetime\n",
    "import os\n",
    "import random\n",
    "from math import ceil, pi\n",
    "from collections import namedtuple\n",
    "\n",
    "import keras\n",
    "import plotly.io\n",
    "import plotly.offline\n",
    "import plotly.express as px\n",
    "import polars as pl\n",
    "import polars.selectors as cs\n",
    "import tensorflow as tf\n",
    "\n",
    "print(\"TensorFlow version:\", tf.__version__)\n",
    "\n",
    "random.seed(3)\n",
    "tf.random.set_seed(3)\n",
    "\n",
    "plotly.offline.init_notebook_mode(connected=True)\n",
    "plotly.io.templates.default = \"plotly_dark\"\n",
    "# plotly.io.renderers.default = \"notebook_connected\""
   ]
  },
  {
   "cell_type": "code",
   "execution_count": 2,
   "metadata": {},
   "outputs": [],
   "source": [
    "# TODO After having trained a model, plot a heatmap store_nbr vs. family of loss values\n",
    "\n",
    "# TODO After evaluation, retrain the model(s) on the test set before predicting\n",
    "\n",
    "# TODO After selecting the best model for each key, retrain the model on the corresponding keys only.\n",
    "# TODO This could be better as the model will only be used on those keys\n",
    "# TODO -> need a large enough number of keys per model (which is a good thing anyway)"
   ]
  },
  {
   "cell_type": "code",
   "execution_count": 3,
   "metadata": {},
   "outputs": [],
   "source": [
    "INPUT_DIR = os.path.abspath(\"input\")  # directory with inputs from the competition\n",
    "\n",
    "# TODO use 'steps' instead of 'length' for length of time sequences?\n",
    "TARGET_LENGTH = 16  # length of the target sequences\n",
    "\n",
    "METADATA_VARS = 4  # number of metadata variables\n",
    "TIMESTEPS = 800  # number of timesteps to use in training\n",
    "\n",
    "# training hyperparameters\n",
    "LEARNING_RATE = 1e-4\n",
    "BATCH_SIZE = 64\n",
    "\n",
    "BUFFER_SIZE = 1_000\n",
    "\n",
    "# the Kaggle competition uses Root Mean Squared Logarithmic Error\n",
    "LOSS = keras.losses.MeanSquaredLogarithmicError()"
   ]
  },
  {
   "cell_type": "markdown",
   "metadata": {},
   "source": [
    "# DATA PREPARATION"
   ]
  },
  {
   "cell_type": "code",
   "execution_count": 5,
   "metadata": {},
   "outputs": [],
   "source": [
    "Key = namedtuple(\"Key\", (\"store_nbr\", \"family\"))\n",
    "KeyStats = namedtuple(\"KeyStats\", (\"mean\", \"std\"))"
   ]
  },
  {
   "cell_type": "code",
   "execution_count": null,
   "metadata": {},
   "outputs": [],
   "source": [
    "class Scaler:\n",
    "    def __init__(self, eps: float = 0.1):\n",
    "        self.eps = eps\n",
    "        self.map: dict[Key, KeyStats] = dict()\n",
    "\n",
    "    def scale(self, key: Key, series: pl.Series) -> pl.Series:\n",
    "        \"\"\"Scales the series, omitting the target.\"\"\"\n",
    "\n",
    "        target = series.tail(TARGET_LENGTH)\n",
    "        inputs = series.head(-TARGET_LENGTH)\n",
    "\n",
    "        mean, std = inputs.mean(), inputs.std()\n",
    "        std = 1.0 if std < self.eps else std  # type: ignore\n",
    "\n",
    "        scaled_series = pl.concat([(inputs - mean) / std, target])\n",
    "\n",
    "        self.map[key] = KeyStats(mean=mean, std=std)  # store the values for unscaling\n",
    "\n",
    "        return scaled_series\n",
    "\n",
    "    def unscale(self, keys: list[Key], pred: tf.Tensor) -> tf.Tensor:\n",
    "        # pred has shape = (keys, TARGET_LENGTH, 1)\n",
    "\n",
    "        kss = [self.map[key] for key in keys]\n",
    "        mean = tf.reshape(tf.constant([ks.mean for ks in kss]), shape=(-1, 1, 1))\n",
    "        std = tf.reshape(tf.constant([ks.std for ks in kss]), shape=(-1, 1, 1))\n",
    "\n",
    "        return (pred * std) + mean"
   ]
  },
  {
   "cell_type": "code",
   "execution_count": 12,
   "metadata": {},
   "outputs": [],
   "source": [
    "def _read_metadata_dataframes(timesteps: int, include_target: bool) -> pl.DataFrame:\n",
    "    # read the oil prices and fill the missing dates\n",
    "    meta_df = pl.read_csv(os.path.join(INPUT_DIR, \"oil.csv\"), try_parse_dates=True)\n",
    "    meta_df = (\n",
    "        meta_df.select(pl.date_range(pl.col(\"date\").min(), pl.col(\"date\").max(), \"1d\"))\n",
    "        .join(meta_df, on=\"date\", how=\"outer\")\n",
    "        .drop(\"date_right\")\n",
    "        .interpolate()\n",
    "        .fill_null(strategy=\"backward\")\n",
    "    )\n",
    "\n",
    "    # add a weekday signal (cos and sin of the weekday)\n",
    "    meta_df = (\n",
    "        meta_df.with_columns(weekday=(2 * pi * (pl.col(\"date\").dt.weekday() - 1) / 7))\n",
    "        .with_columns(cos_wd=pl.col(\"weekday\").cos(), sin_wd=pl.col(\"weekday\").sin())\n",
    "        .drop(\"weekday\")\n",
    "    )\n",
    "\n",
    "    if not include_target:\n",
    "        meta_df = meta_df.head(-TARGET_LENGTH)\n",
    "\n",
    "    meta_df = meta_df.tail(timesteps + TARGET_LENGTH)\n",
    "\n",
    "    # normalize the oil prices on the selected window\n",
    "    # NOTE include the target in the normalization since we have it\n",
    "    meta_df = meta_df.with_columns(\n",
    "        (pl.col(\"dcoilwtico\") - pl.col(\"dcoilwtico\").mean())\n",
    "        / pl.col(\"dcoilwtico\").std()\n",
    "    )\n",
    "\n",
    "    meta_df = meta_df.with_columns(cs.numeric().cast(pl.Float32))\n",
    "\n",
    "    return meta_df"
   ]
  },
  {
   "cell_type": "code",
   "execution_count": 13,
   "metadata": {},
   "outputs": [],
   "source": [
    "def _read_key_dataframes(\n",
    "    timesteps: int, include_target: bool\n",
    ") -> tuple[dict[Key, pl.DataFrame], Scaler, pl.Series]:\n",
    "    \"\"\"Reads and preprocesses the key dataframes.\n",
    "\n",
    "    The key dataframes have length `timesteps + TARGET_LENGTH`, with the last\n",
    "    `TARGET_LENGTH` steps being the target (or test set if `include_target=False`).\n",
    "    \"\"\"\n",
    "\n",
    "    # read dataframe containing the date and the shared metadata\n",
    "    meta_df = _read_metadata_dataframes(timesteps, include_target)\n",
    "\n",
    "    train_df = pl.read_csv(\n",
    "        os.path.join(INPUT_DIR, \"train.csv\"), try_parse_dates=True\n",
    "    ).drop(\"id\")\n",
    "\n",
    "    if include_target:\n",
    "        target_df = (\n",
    "            pl.read_csv(os.path.join(INPUT_DIR, \"test.csv\"), try_parse_dates=True)\n",
    "            .with_columns(pl.lit(None).alias(\"sales\"))\n",
    "            .select(train_df.columns)\n",
    "        )\n",
    "        train_df = pl.concat([train_df, target_df], how=\"vertical\")\n",
    "\n",
    "    # keep only the most recent timesteps to make the training set and target\n",
    "    timedelta = datetime.timedelta(timesteps + TARGET_LENGTH)\n",
    "    train_df = train_df.filter(pl.col(\"date\") > pl.col(\"date\").max() - timedelta)\n",
    "\n",
    "    dfs: dict[Key, pl.DataFrame] = dict()  # dict to store the key dataframes\n",
    "    scaler = Scaler()  # scaler for the 'sales' columns\n",
    "\n",
    "    # partition the train dataframe by key and process each key dataframe\n",
    "    for key, df in train_df.partition_by(\n",
    "        [\"store_nbr\", \"family\"], include_key=False, as_dict=True\n",
    "    ).items():\n",
    "        key = Key(*key)\n",
    "\n",
    "        df = (\n",
    "            df.join(meta_df, on=\"date\", how=\"outer\")\n",
    "            .drop([\"date\", \"date_right\"])\n",
    "            .interpolate()\n",
    "            .fill_null(strategy=\"backward\")\n",
    "            .with_columns(  # min-max scaling (including target)\n",
    "                (pl.col(\"onpromotion\") - pl.col(\"onpromotion\").min())\n",
    "                / (pl.col(\"onpromotion\").max() - pl.col(\"onpromotion\").min() + 1)\n",
    "            )\n",
    "        )\n",
    "\n",
    "        # scale the training 'sales' values (not the target)\n",
    "        df = df.with_columns(sales=scaler.scale(key, df[\"sales\"]))\n",
    "\n",
    "        dfs[key] = df.cast(pl.Float32)\n",
    "\n",
    "    return dfs, scaler, meta_df[\"date\"]"
   ]
  },
  {
   "cell_type": "code",
   "execution_count": 17,
   "metadata": {},
   "outputs": [],
   "source": [
    "class KeysDataFrame:\n",
    "    def __init__(self, train_timesteps: int, include_target: bool):\n",
    "        self.train_steps = train_timesteps\n",
    "\n",
    "        dfs, scaler, date = _read_key_dataframes(train_timesteps, include_target)\n",
    "\n",
    "        self._cols = next(iter(dfs.values())).columns\n",
    "        self._date, self._scaler = date, scaler\n",
    "\n",
    "        # make a tensor with dims = (key, time, feature)\n",
    "        self._data = tf.stack([tf.constant(df) for df in dfs.values()], axis=0)\n",
    "\n",
    "        # compute the index of each dataframe along the key dimension\n",
    "        self._key_index = {key: ind for ind, key in enumerate(dfs.keys())}\n",
    "\n",
    "    def get_training_data(self, keys: list[Key]) -> tf.Tensor:\n",
    "        \"\"\"Returns the training data (without target) for the selected keys.\"\"\"\n",
    "\n",
    "        data = tf.slice(self._data, begin=[0, 0, 0], size=[-1, self.train_steps, -1])\n",
    "\n",
    "        return tf.gather(data, indices=[self._key_index[key] for key in keys], axis=0)\n",
    "\n",
    "    def get_last_window(\n",
    "        self, keys: list[Key], input_length: int\n",
    "    ) -> tuple[tf.Tensor, tf.Tensor]:\n",
    "        \"\"\"Returns the data of last window (input + target).\"\"\"\n",
    "\n",
    "        data = tf.slice(\n",
    "            self._data,\n",
    "            begin=[0, self.train_steps - input_length, 0],\n",
    "            size=[-1, -1, -1],\n",
    "        )\n",
    "\n",
    "        return tf.gather(data, indices=[self._key_index[key] for key in keys], axis=0)\n",
    "\n",
    "    def unscale(self, keys: list[Key], pred: tf.Tensor) -> tf.Tensor:\n",
    "        return self._scaler.unscale(keys, pred)\n",
    "\n",
    "    def __getitem__(self, key: Key) -> pl.DataFrame:\n",
    "        data = tf.squeeze(tf.gather(self._data, self._key_index[key], axis=0))\n",
    "        df = pl.DataFrame(data.numpy(), schema=self._cols)\n",
    "\n",
    "        return df.insert_column(0, self._date)\n",
    "\n",
    "    @property\n",
    "    def keys(self) -> list[Key]:\n",
    "        return list(self._key_index.keys())"
   ]
  },
  {
   "cell_type": "markdown",
   "metadata": {},
   "source": [
    "---"
   ]
  },
  {
   "cell_type": "markdown",
   "metadata": {},
   "source": [
    "## Dataset creation"
   ]
  },
  {
   "cell_type": "code",
   "execution_count": 18,
   "metadata": {},
   "outputs": [],
   "source": [
    "@tf.function(\n",
    "    input_signature=[\n",
    "        tf.TensorSpec(shape=(None, None, 1 + METADATA_VARS), dtype=tf.float32)\n",
    "    ]\n",
    ")\n",
    "def split_batch_window(\n",
    "    window_batch: tf.Tensor,\n",
    ") -> tuple[tuple[tf.Tensor, tf.Tensor, tf.Tensor], tf.Tensor]:\n",
    "    \"\"\"Splits a batch of window into a batch of (inputs, target) pairs.\"\"\"\n",
    "\n",
    "    # split time\n",
    "    x_vars, y_vars = tf.split(window_batch, [-1, TARGET_LENGTH], axis=1)  # type: ignore\n",
    "\n",
    "    # split features\n",
    "    x_sale, x_meta = tf.split(x_vars, [1, -1], axis=-1)  # type: ignore\n",
    "    y_sale, y_meta = tf.split(y_vars, [1, -1], axis=-1)  # type: ignore\n",
    "\n",
    "    return (x_sale, x_meta, y_meta), y_sale"
   ]
  },
  {
   "cell_type": "code",
   "execution_count": 19,
   "metadata": {},
   "outputs": [],
   "source": [
    "class KeysDataset:\n",
    "    def __init__(\n",
    "        self,\n",
    "        kdf: KeysDataFrame,\n",
    "        input_length: int,\n",
    "        keys: list[Key],\n",
    "        train_ratio: float = 0.8,\n",
    "    ):\n",
    "        self.window_length = input_length + TARGET_LENGTH\n",
    "\n",
    "        # split the total number of windows according to the ratio\n",
    "        total_windows = kdf.train_steps - 2 * self.window_length + 2\n",
    "        train_windows = int(total_windows * train_ratio)\n",
    "        valid_windows = total_windows - train_windows\n",
    "\n",
    "        # compute the number of timesteps corresponding to the number of training windows\n",
    "        train_timesteps = train_windows + self.window_length - 1\n",
    "\n",
    "        data = kdf.get_training_data(keys)\n",
    "        data = tf.transpose(data, perm=[1, 0, 2])  # dims = (time, key, feature)\n",
    "\n",
    "        train_data, valid_data = tf.split(data, [train_timesteps, -1], axis=0)  # type: ignore\n",
    "\n",
    "        self.train = self._make_dataset(train_data)\n",
    "        self.valid = self._make_dataset(valid_data)\n",
    "\n",
    "        # compute the number of batches in each dataset (for self.length)\n",
    "        self.train_batches = ceil(train_windows * len(keys) / BATCH_SIZE)\n",
    "        self.valid_batches = ceil(valid_windows * len(keys) / BATCH_SIZE)\n",
    "\n",
    "    def _make_dataset(self, data: tf.Tensor) -> tf.data.Dataset:\n",
    "        ds = tf.data.Dataset.from_tensor_slices(data)  # spec = (keys, features)\n",
    "\n",
    "        # window the time dimension -> spec = (window_length, keys, features)\n",
    "        ds = ds.window(size=self.window_length, shift=1, drop_remainder=True)\n",
    "        ds = ds.flat_map(lambda window: window.batch(self.window_length))\n",
    "\n",
    "        # -> spec = (keys, window_length, features)\n",
    "        ds = ds.map(lambda xs: tf.transpose(xs, perm=[1, 0, 2]))\n",
    "\n",
    "        # split the key dimension into tensors -> spec = (window_length, features)\n",
    "        ds = ds.flat_map(tf.data.Dataset.from_tensor_slices)\n",
    "\n",
    "        return (\n",
    "            ds.shuffle(BUFFER_SIZE)\n",
    "            .batch(BATCH_SIZE)\n",
    "            .map(split_batch_window, num_parallel_calls=tf.data.AUTOTUNE)\n",
    "            .prefetch(tf.data.AUTOTUNE)\n",
    "        )\n",
    "\n",
    "    # TODO return only train_batches? if no need for valid_batches\n",
    "    @property\n",
    "    def length(self) -> dict[str, int]:\n",
    "        return {\"train\": self.train_batches, \"valid\": self.valid_batches}"
   ]
  },
  {
   "cell_type": "markdown",
   "metadata": {},
   "source": [
    "---"
   ]
  },
  {
   "cell_type": "markdown",
   "metadata": {},
   "source": [
    "# STRATEGY AND MODEL BLUEPRINT"
   ]
  },
  {
   "cell_type": "code",
   "execution_count": 20,
   "metadata": {},
   "outputs": [],
   "source": [
    "# TODO explain architecture and put picture here"
   ]
  },
  {
   "cell_type": "code",
   "execution_count": 21,
   "metadata": {},
   "outputs": [],
   "source": [
    "# NOTE Give up on the Decoupling Network which does not work.\n",
    "# NOTE The decoupling is done by the TimeNet anyways, so no need for an extra network\n",
    "# NOTE unless we want to do something very specific (e.g. decoupling by hand).\n",
    "#\n",
    "# NOTE Right now, we split the x_vars in the KDS and then concatenate them in the model.\n",
    "# NOTE This is a bit inefficient but illustrates what happens well."
   ]
  },
  {
   "cell_type": "code",
   "execution_count": 22,
   "metadata": {},
   "outputs": [],
   "source": [
    "def make_coupnet() -> keras.Model:\n",
    "    seq = keras.Sequential(\n",
    "        [\n",
    "            keras.Input(shape=(TARGET_LENGTH, 1 + METADATA_VARS)),\n",
    "            keras.layers.Dense(32, activation=\"relu\"),\n",
    "            keras.layers.Dense(32, activation=\"relu\"),\n",
    "            keras.layers.Dense(32, activation=\"relu\"),\n",
    "            keras.layers.Dense(1, kernel_initializer=\"ones\"),\n",
    "        ]\n",
    "    )\n",
    "\n",
    "    y_Zvar = keras.Input(shape=(TARGET_LENGTH, 1), name=\"Y-ZVariable\")\n",
    "    y_meta = keras.Input(shape=(TARGET_LENGTH, METADATA_VARS), name=\"Y-Metadata\")\n",
    "    y_conc = keras.layers.Concatenate(axis=-1, name=\"concatenate\")([y_Zvar, y_meta])\n",
    "    y_coup = seq(y_conc)\n",
    "\n",
    "    return keras.Model(inputs=[y_Zvar, y_meta], outputs=y_coup, name=\"CoupNet\")"
   ]
  },
  {
   "cell_type": "code",
   "execution_count": 23,
   "metadata": {},
   "outputs": [],
   "source": [
    "def make_model(timenet: keras.Model, coupnet: keras.Model, name: str) -> keras.Model:\n",
    "    \"\"\"Constructs a model from individual components.\"\"\"\n",
    "\n",
    "    x_sale = keras.Input(shape=(None, 1), name=\"X-Sales\")\n",
    "    x_meta = keras.Input(shape=(None, METADATA_VARS), name=\"X-Metadata\")\n",
    "    y_meta = keras.Input(shape=(TARGET_LENGTH, METADATA_VARS), name=\"Y-Metadata\")\n",
    "\n",
    "    x_vars = keras.layers.Concatenate(axis=-1, name=\"concatenate\")([x_sale, x_meta])\n",
    "\n",
    "    y_Zvar = timenet(x_vars)  # -> (batch, y_steps, 1)\n",
    "    y_pred = coupnet([y_Zvar, y_meta])  # -> (batch, y_steps, 1)\n",
    "\n",
    "    return keras.Model(inputs=[x_sale, x_meta, y_meta], outputs=y_pred, name=name)"
   ]
  },
  {
   "cell_type": "markdown",
   "metadata": {},
   "source": [
    "## Print model architecture"
   ]
  },
  {
   "cell_type": "code",
   "execution_count": 24,
   "metadata": {},
   "outputs": [
    {
     "data": {
      "image/png": "[encoded data removed]",
      "text/plain": [
       "<IPython.core.display.Image object>"
      ]
     },
     "execution_count": 24,
     "metadata": {},
     "output_type": "execute_result"
    }
   ],
   "source": [
    "def _make_dummy_timenet() -> keras.Model:\n",
    "    x_Zvar = keras.Input(shape=(None, 1 + METADATA_VARS))\n",
    "    y_Zvar = x_Zvar[:, -TARGET_LENGTH:, 0, tf.newaxis]  # type: ignore\n",
    "\n",
    "    return keras.Model(inputs=x_Zvar, outputs=y_Zvar, name=\"TimeNet\")\n",
    "\n",
    "\n",
    "def _make_dummy_coupnet() -> keras.Model:\n",
    "    y_Zvar = keras.Input(shape=(TARGET_LENGTH, 1), name=\"Y-ZVariable\")\n",
    "    y_meta = keras.Input(shape=(TARGET_LENGTH, METADATA_VARS), name=\"Y-Metadata\")\n",
    "\n",
    "    return keras.Model(inputs=[y_Zvar, y_meta], outputs=y_Zvar, name=\"CoupNet\")\n",
    "\n",
    "\n",
    "# make a dummy model whose output is the tail of the input sales values\n",
    "dummy_model = make_model(\n",
    "    timenet=_make_dummy_timenet(), coupnet=_make_dummy_coupnet(), name=\"DummyModel\"\n",
    ")\n",
    "\n",
    "keras.utils.plot_model(\n",
    "    dummy_model, show_shapes=True, to_file=\"_dummy.png\", expand_nested=False\n",
    ")"
   ]
  },
  {
   "cell_type": "markdown",
   "metadata": {},
   "source": [
    "# TESTING THE MODELS"
   ]
  },
  {
   "cell_type": "code",
   "execution_count": 25,
   "metadata": {},
   "outputs": [],
   "source": [
    "kdf = KeysDataFrame(500, include_target=False)  # take fewer timesteps for testing"
   ]
  },
  {
   "cell_type": "code",
   "execution_count": 26,
   "metadata": {},
   "outputs": [],
   "source": [
    "EPOCHS = 3\n",
    "SPLIT = 3\n",
    "\n",
    "# NOTE sample keys not at random to ensure repeatability\n",
    "# NOTE Take the keys spread across the entire range of stores and families\n",
    "keys = kdf.keys[::10]\n",
    "\n",
    "kds = KeysDataset(kdf, input_length=64, keys=keys)"
   ]
  },
  {
   "cell_type": "code",
   "execution_count": 27,
   "metadata": {},
   "outputs": [],
   "source": [
    "def make_dense_timenet(input_length: int) -> keras.Model:\n",
    "    name = \"DENS-3x32\"\n",
    "\n",
    "    return keras.Sequential(\n",
    "        [\n",
    "            keras.Input(shape=(input_length, 1 + METADATA_VARS)),\n",
    "            keras.layers.Dense(64, activation=\"relu\"),\n",
    "            keras.layers.Dense(64, activation=\"relu\"),\n",
    "            keras.layers.Dense(64, activation=\"relu\"),\n",
    "            keras.layers.Flatten(),\n",
    "            keras.layers.Dense(TARGET_LENGTH),\n",
    "            keras.layers.Reshape((TARGET_LENGTH, 1)),\n",
    "        ],\n",
    "        name=name + \"-TimeNet\",\n",
    "    )"
   ]
  },
  {
   "cell_type": "markdown",
   "metadata": {},
   "source": [
    "---"
   ]
  },
  {
   "cell_type": "code",
   "execution_count": null,
   "metadata": {},
   "outputs": [],
   "source": [
    "model = make_model(make_dense_timenet(64), make_coupnet(), name=\"test\")\n",
    "model.compile(loss=LOSS, optimizer=keras.optimizers.Adam(learning_rate=1e-4))\n",
    "\n",
    "\n",
    "hist = model.fit(\n",
    "    kds.train.repeat(),\n",
    "    validation_data=kds.valid,\n",
    "    epochs=EPOCHS * SPLIT,\n",
    "    steps_per_epoch=kds.length[\"train\"] // SPLIT,\n",
    ")"
   ]
  },
  {
   "cell_type": "code",
   "execution_count": 118,
   "metadata": {},
   "outputs": [
    {
     "data": {
      "application/vnd.plotly.v1+json": {
       "config": {
        "plotlyServerURL": "https://plot.ly"
       },
       "data": [
        {
         "hovertemplate": "variable=loss<br>index=%{x}<br>value=%{y}<extra></extra>",
         "legendgroup": "loss",
         "line": {
          "color": "#636efa",
          "dash": "solid"
         },
         "marker": {
          "symbol": "circle"
         },
         "mode": "lines",
         "name": "loss",
         "orientation": "v",
         "showlegend": true,
         "type": "scatter",
         "x": [
          0,
          1,
          2,
          3,
          4,
          5,
          6,
          7,
          8
         ],
         "xaxis": "x",
         "y": [
          0.24570854008197784,
          0.10904447734355927,
          0.15138913691043854,
          0.08072640001773834,
          0.08821363747119904,
          0.133916437625885,
          0.06646457314491272,
          0.08054958283901215,
          0.12899549305438995
         ],
         "yaxis": "y"
        },
        {
         "hovertemplate": "variable=val_loss<br>index=%{x}<br>value=%{y}<extra></extra>",
         "legendgroup": "val_loss",
         "line": {
          "color": "#EF553B",
          "dash": "solid"
         },
         "marker": {
          "symbol": "circle"
         },
         "mode": "lines",
         "name": "val_loss",
         "orientation": "v",
         "showlegend": true,
         "type": "scatter",
         "x": [
          0,
          1,
          2,
          3,
          4,
          5,
          6,
          7,
          8
         ],
         "xaxis": "x",
         "y": [
          0.15040729939937592,
          0.12901245057582855,
          0.13132253289222717,
          0.12011107057332993,
          0.1027011126279831,
          0.11042303591966629,
          0.09881729632616043,
          0.09767323732376099,
          0.1075335443019867
         ],
         "yaxis": "y"
        }
       ],
       "layout": {
        "legend": {
         "title": {
          "text": "variable"
         },
         "tracegroupgap": 0
        },
        "margin": {
         "t": 60
        },
        "template": {
         "data": {
          "bar": [
           {
            "error_x": {
             "color": "#f2f5fa"
            },
            "error_y": {
             "color": "#f2f5fa"
            },
            "marker": {
             "line": {
              "color": "rgb(17,17,17)",
              "width": 0.5
             },
             "pattern": {
              "fillmode": "overlay",
              "size": 10,
              "solidity": 0.2
             }
            },
            "type": "bar"
           }
          ],
          "barpolar": [
           {
            "marker": {
             "line": {
              "color": "rgb(17,17,17)",
              "width": 0.5
             },
             "pattern": {
              "fillmode": "overlay",
              "size": 10,
              "solidity": 0.2
             }
            },
            "type": "barpolar"
           }
          ],
          "carpet": [
           {
            "aaxis": {
             "endlinecolor": "#A2B1C6",
             "gridcolor": "#506784",
             "linecolor": "#506784",
             "minorgridcolor": "#506784",
             "startlinecolor": "#A2B1C6"
            },
            "baxis": {
             "endlinecolor": "#A2B1C6",
             "gridcolor": "#506784",
             "linecolor": "#506784",
             "minorgridcolor": "#506784",
             "startlinecolor": "#A2B1C6"
            },
            "type": "carpet"
           }
          ],
          "choropleth": [
           {
            "colorbar": {
             "outlinewidth": 0,
             "ticks": ""
            },
            "type": "choropleth"
           }
          ],
          "contour": [
           {
            "colorbar": {
             "outlinewidth": 0,
             "ticks": ""
            },
            "colorscale": [
             [
              0,
              "#0d0887"
             ],
             [
              0.1111111111111111,
              "#46039f"
             ],
             [
              0.2222222222222222,
              "#7201a8"
             ],
             [
              0.3333333333333333,
              "#9c179e"
             ],
             [
              0.4444444444444444,
              "#bd3786"
             ],
             [
              0.5555555555555556,
              "#d8576b"
             ],
             [
              0.6666666666666666,
              "#ed7953"
             ],
             [
              0.7777777777777778,
              "#fb9f3a"
             ],
             [
              0.8888888888888888,
              "#fdca26"
             ],
             [
              1,
              "#f0f921"
             ]
            ],
            "type": "contour"
           }
          ],
          "contourcarpet": [
           {
            "colorbar": {
             "outlinewidth": 0,
             "ticks": ""
            },
            "type": "contourcarpet"
           }
          ],
          "heatmap": [
           {
            "colorbar": {
             "outlinewidth": 0,
             "ticks": ""
            },
            "colorscale": [
             [
              0,
              "#0d0887"
             ],
             [
              0.1111111111111111,
              "#46039f"
             ],
             [
              0.2222222222222222,
              "#7201a8"
             ],
             [
              0.3333333333333333,
              "#9c179e"
             ],
             [
              0.4444444444444444,
              "#bd3786"
             ],
             [
              0.5555555555555556,
              "#d8576b"
             ],
             [
              0.6666666666666666,
              "#ed7953"
             ],
             [
              0.7777777777777778,
              "#fb9f3a"
             ],
             [
              0.8888888888888888,
              "#fdca26"
             ],
             [
              1,
              "#f0f921"
             ]
            ],
            "type": "heatmap"
           }
          ],
          "heatmapgl": [
           {
            "colorbar": {
             "outlinewidth": 0,
             "ticks": ""
            },
            "colorscale": [
             [
              0,
              "#0d0887"
             ],
             [
              0.1111111111111111,
              "#46039f"
             ],
             [
              0.2222222222222222,
              "#7201a8"
             ],
             [
              0.3333333333333333,
              "#9c179e"
             ],
             [
              0.4444444444444444,
              "#bd3786"
             ],
             [
              0.5555555555555556,
              "#d8576b"
             ],
             [
              0.6666666666666666,
              "#ed7953"
             ],
             [
              0.7777777777777778,
              "#fb9f3a"
             ],
             [
              0.8888888888888888,
              "#fdca26"
             ],
             [
              1,
              "#f0f921"
             ]
            ],
            "type": "heatmapgl"
           }
          ],
          "histogram": [
           {
            "marker": {
             "pattern": {
              "fillmode": "overlay",
              "size": 10,
              "solidity": 0.2
             }
            },
            "type": "histogram"
           }
          ],
          "histogram2d": [
           {
            "colorbar": {
             "outlinewidth": 0,
             "ticks": ""
            },
            "colorscale": [
             [
              0,
              "#0d0887"
             ],
             [
              0.1111111111111111,
              "#46039f"
             ],
             [
              0.2222222222222222,
              "#7201a8"
             ],
             [
              0.3333333333333333,
              "#9c179e"
             ],
             [
              0.4444444444444444,
              "#bd3786"
             ],
             [
              0.5555555555555556,
              "#d8576b"
             ],
             [
              0.6666666666666666,
              "#ed7953"
             ],
             [
              0.7777777777777778,
              "#fb9f3a"
             ],
             [
              0.8888888888888888,
              "#fdca26"
             ],
             [
              1,
              "#f0f921"
             ]
            ],
            "type": "histogram2d"
           }
          ],
          "histogram2dcontour": [
           {
            "colorbar": {
             "outlinewidth": 0,
             "ticks": ""
            },
            "colorscale": [
             [
              0,
              "#0d0887"
             ],
             [
              0.1111111111111111,
              "#46039f"
             ],
             [
              0.2222222222222222,
              "#7201a8"
             ],
             [
              0.3333333333333333,
              "#9c179e"
             ],
             [
              0.4444444444444444,
              "#bd3786"
             ],
             [
              0.5555555555555556,
              "#d8576b"
             ],
             [
              0.6666666666666666,
              "#ed7953"
             ],
             [
              0.7777777777777778,
              "#fb9f3a"
             ],
             [
              0.8888888888888888,
              "#fdca26"
             ],
             [
              1,
              "#f0f921"
             ]
            ],
            "type": "histogram2dcontour"
           }
          ],
          "mesh3d": [
           {
            "colorbar": {
             "outlinewidth": 0,
             "ticks": ""
            },
            "type": "mesh3d"
           }
          ],
          "parcoords": [
           {
            "line": {
             "colorbar": {
              "outlinewidth": 0,
              "ticks": ""
             }
            },
            "type": "parcoords"
           }
          ],
          "pie": [
           {
            "automargin": true,
            "type": "pie"
           }
          ],
          "scatter": [
           {
            "marker": {
             "line": {
              "color": "#283442"
             }
            },
            "type": "scatter"
           }
          ],
          "scatter3d": [
           {
            "line": {
             "colorbar": {
              "outlinewidth": 0,
              "ticks": ""
             }
            },
            "marker": {
             "colorbar": {
              "outlinewidth": 0,
              "ticks": ""
             }
            },
            "type": "scatter3d"
           }
          ],
          "scattercarpet": [
           {
            "marker": {
             "colorbar": {
              "outlinewidth": 0,
              "ticks": ""
             }
            },
            "type": "scattercarpet"
           }
          ],
          "scattergeo": [
           {
            "marker": {
             "colorbar": {
              "outlinewidth": 0,
              "ticks": ""
             }
            },
            "type": "scattergeo"
           }
          ],
          "scattergl": [
           {
            "marker": {
             "line": {
              "color": "#283442"
             }
            },
            "type": "scattergl"
           }
          ],
          "scattermapbox": [
           {
            "marker": {
             "colorbar": {
              "outlinewidth": 0,
              "ticks": ""
             }
            },
            "type": "scattermapbox"
           }
          ],
          "scatterpolar": [
           {
            "marker": {
             "colorbar": {
              "outlinewidth": 0,
              "ticks": ""
             }
            },
            "type": "scatterpolar"
           }
          ],
          "scatterpolargl": [
           {
            "marker": {
             "colorbar": {
              "outlinewidth": 0,
              "ticks": ""
             }
            },
            "type": "scatterpolargl"
           }
          ],
          "scatterternary": [
           {
            "marker": {
             "colorbar": {
              "outlinewidth": 0,
              "ticks": ""
             }
            },
            "type": "scatterternary"
           }
          ],
          "surface": [
           {
            "colorbar": {
             "outlinewidth": 0,
             "ticks": ""
            },
            "colorscale": [
             [
              0,
              "#0d0887"
             ],
             [
              0.1111111111111111,
              "#46039f"
             ],
             [
              0.2222222222222222,
              "#7201a8"
             ],
             [
              0.3333333333333333,
              "#9c179e"
             ],
             [
              0.4444444444444444,
              "#bd3786"
             ],
             [
              0.5555555555555556,
              "#d8576b"
             ],
             [
              0.6666666666666666,
              "#ed7953"
             ],
             [
              0.7777777777777778,
              "#fb9f3a"
             ],
             [
              0.8888888888888888,
              "#fdca26"
             ],
             [
              1,
              "#f0f921"
             ]
            ],
            "type": "surface"
           }
          ],
          "table": [
           {
            "cells": {
             "fill": {
              "color": "#506784"
             },
             "line": {
              "color": "rgb(17,17,17)"
             }
            },
            "header": {
             "fill": {
              "color": "#2a3f5f"
             },
             "line": {
              "color": "rgb(17,17,17)"
             }
            },
            "type": "table"
           }
          ]
         },
         "layout": {
          "annotationdefaults": {
           "arrowcolor": "#f2f5fa",
           "arrowhead": 0,
           "arrowwidth": 1
          },
          "autotypenumbers": "strict",
          "coloraxis": {
           "colorbar": {
            "outlinewidth": 0,
            "ticks": ""
           }
          },
          "colorscale": {
           "diverging": [
            [
             0,
             "#8e0152"
            ],
            [
             0.1,
             "#c51b7d"
            ],
            [
             0.2,
             "#de77ae"
            ],
            [
             0.3,
             "#f1b6da"
            ],
            [
             0.4,
             "#fde0ef"
            ],
            [
             0.5,
             "#f7f7f7"
            ],
            [
             0.6,
             "#e6f5d0"
            ],
            [
             0.7,
             "#b8e186"
            ],
            [
             0.8,
             "#7fbc41"
            ],
            [
             0.9,
             "#4d9221"
            ],
            [
             1,
             "#276419"
            ]
           ],
           "sequential": [
            [
             0,
             "#0d0887"
            ],
            [
             0.1111111111111111,
             "#46039f"
            ],
            [
             0.2222222222222222,
             "#7201a8"
            ],
            [
             0.3333333333333333,
             "#9c179e"
            ],
            [
             0.4444444444444444,
             "#bd3786"
            ],
            [
             0.5555555555555556,
             "#d8576b"
            ],
            [
             0.6666666666666666,
             "#ed7953"
            ],
            [
             0.7777777777777778,
             "#fb9f3a"
            ],
            [
             0.8888888888888888,
             "#fdca26"
            ],
            [
             1,
             "#f0f921"
            ]
           ],
           "sequentialminus": [
            [
             0,
             "#0d0887"
            ],
            [
             0.1111111111111111,
             "#46039f"
            ],
            [
             0.2222222222222222,
             "#7201a8"
            ],
            [
             0.3333333333333333,
             "#9c179e"
            ],
            [
             0.4444444444444444,
             "#bd3786"
            ],
            [
             0.5555555555555556,
             "#d8576b"
            ],
            [
             0.6666666666666666,
             "#ed7953"
            ],
            [
             0.7777777777777778,
             "#fb9f3a"
            ],
            [
             0.8888888888888888,
             "#fdca26"
            ],
            [
             1,
             "#f0f921"
            ]
           ]
          },
          "colorway": [
           "#636efa",
           "#EF553B",
           "#00cc96",
           "#ab63fa",
           "#FFA15A",
           "#19d3f3",
           "#FF6692",
           "#B6E880",
           "#FF97FF",
           "#FECB52"
          ],
          "font": {
           "color": "#f2f5fa"
          },
          "geo": {
           "bgcolor": "rgb(17,17,17)",
           "lakecolor": "rgb(17,17,17)",
           "landcolor": "rgb(17,17,17)",
           "showlakes": true,
           "showland": true,
           "subunitcolor": "#506784"
          },
          "hoverlabel": {
           "align": "left"
          },
          "hovermode": "closest",
          "mapbox": {
           "style": "dark"
          },
          "paper_bgcolor": "rgb(17,17,17)",
          "plot_bgcolor": "rgb(17,17,17)",
          "polar": {
           "angularaxis": {
            "gridcolor": "#506784",
            "linecolor": "#506784",
            "ticks": ""
           },
           "bgcolor": "rgb(17,17,17)",
           "radialaxis": {
            "gridcolor": "#506784",
            "linecolor": "#506784",
            "ticks": ""
           }
          },
          "scene": {
           "xaxis": {
            "backgroundcolor": "rgb(17,17,17)",
            "gridcolor": "#506784",
            "gridwidth": 2,
            "linecolor": "#506784",
            "showbackground": true,
            "ticks": "",
            "zerolinecolor": "#C8D4E3"
           },
           "yaxis": {
            "backgroundcolor": "rgb(17,17,17)",
            "gridcolor": "#506784",
            "gridwidth": 2,
            "linecolor": "#506784",
            "showbackground": true,
            "ticks": "",
            "zerolinecolor": "#C8D4E3"
           },
           "zaxis": {
            "backgroundcolor": "rgb(17,17,17)",
            "gridcolor": "#506784",
            "gridwidth": 2,
            "linecolor": "#506784",
            "showbackground": true,
            "ticks": "",
            "zerolinecolor": "#C8D4E3"
           }
          },
          "shapedefaults": {
           "line": {
            "color": "#f2f5fa"
           }
          },
          "sliderdefaults": {
           "bgcolor": "#C8D4E3",
           "bordercolor": "rgb(17,17,17)",
           "borderwidth": 1,
           "tickwidth": 0
          },
          "ternary": {
           "aaxis": {
            "gridcolor": "#506784",
            "linecolor": "#506784",
            "ticks": ""
           },
           "baxis": {
            "gridcolor": "#506784",
            "linecolor": "#506784",
            "ticks": ""
           },
           "bgcolor": "rgb(17,17,17)",
           "caxis": {
            "gridcolor": "#506784",
            "linecolor": "#506784",
            "ticks": ""
           }
          },
          "title": {
           "x": 0.05
          },
          "updatemenudefaults": {
           "bgcolor": "#506784",
           "borderwidth": 0
          },
          "xaxis": {
           "automargin": true,
           "gridcolor": "#283442",
           "linecolor": "#506784",
           "ticks": "",
           "title": {
            "standoff": 15
           },
           "zerolinecolor": "#283442",
           "zerolinewidth": 2
          },
          "yaxis": {
           "automargin": true,
           "gridcolor": "#283442",
           "linecolor": "#506784",
           "ticks": "",
           "title": {
            "standoff": 15
           },
           "zerolinecolor": "#283442",
           "zerolinewidth": 2
          }
         }
        },
        "xaxis": {
         "anchor": "y",
         "domain": [
          0,
          1
         ],
         "title": {
          "text": "index"
         }
        },
        "yaxis": {
         "anchor": "x",
         "domain": [
          0,
          1
         ],
         "title": {
          "text": "value"
         }
        }
       }
      },
      "text/html": [
       "<div>                            <div id=\"846a59e5-4e3e-4b9f-8e60-688da4393abb\" class=\"plotly-graph-div\" style=\"height:525px; width:100%;\"></div>            <script type=\"text/javascript\">                require([\"plotly\"], function(Plotly) {                    window.PLOTLYENV=window.PLOTLYENV || {};                                    if (document.getElementById(\"846a59e5-4e3e-4b9f-8e60-688da4393abb\")) {                    Plotly.newPlot(                        \"846a59e5-4e3e-4b9f-8e60-688da4393abb\",                        [{\"hovertemplate\":\"variable=loss\\u003cbr\\u003eindex=%{x}\\u003cbr\\u003evalue=%{y}\\u003cextra\\u003e\\u003c\\u002fextra\\u003e\",\"legendgroup\":\"loss\",\"line\":{\"color\":\"#636efa\",\"dash\":\"solid\"},\"marker\":{\"symbol\":\"circle\"},\"mode\":\"lines\",\"name\":\"loss\",\"orientation\":\"v\",\"showlegend\":true,\"x\":[0,1,2,3,4,5,6,7,8],\"xaxis\":\"x\",\"y\":[0.24570854008197784,0.10904447734355927,0.15138913691043854,0.08072640001773834,0.08821363747119904,0.133916437625885,0.06646457314491272,0.08054958283901215,0.12899549305438995],\"yaxis\":\"y\",\"type\":\"scatter\"},{\"hovertemplate\":\"variable=val_loss\\u003cbr\\u003eindex=%{x}\\u003cbr\\u003evalue=%{y}\\u003cextra\\u003e\\u003c\\u002fextra\\u003e\",\"legendgroup\":\"val_loss\",\"line\":{\"color\":\"#EF553B\",\"dash\":\"solid\"},\"marker\":{\"symbol\":\"circle\"},\"mode\":\"lines\",\"name\":\"val_loss\",\"orientation\":\"v\",\"showlegend\":true,\"x\":[0,1,2,3,4,5,6,7,8],\"xaxis\":\"x\",\"y\":[0.15040729939937592,0.12901245057582855,0.13132253289222717,0.12011107057332993,0.1027011126279831,0.11042303591966629,0.09881729632616043,0.09767323732376099,0.1075335443019867],\"yaxis\":\"y\",\"type\":\"scatter\"}],                        {\"template\":{\"data\":{\"histogram2dcontour\":[{\"type\":\"histogram2dcontour\",\"colorbar\":{\"outlinewidth\":0,\"ticks\":\"\"},\"colorscale\":[[0.0,\"#0d0887\"],[0.1111111111111111,\"#46039f\"],[0.2222222222222222,\"#7201a8\"],[0.3333333333333333,\"#9c179e\"],[0.4444444444444444,\"#bd3786\"],[0.5555555555555556,\"#d8576b\"],[0.6666666666666666,\"#ed7953\"],[0.7777777777777778,\"#fb9f3a\"],[0.8888888888888888,\"#fdca26\"],[1.0,\"#f0f921\"]]}],\"choropleth\":[{\"type\":\"choropleth\",\"colorbar\":{\"outlinewidth\":0,\"ticks\":\"\"}}],\"histogram2d\":[{\"type\":\"histogram2d\",\"colorbar\":{\"outlinewidth\":0,\"ticks\":\"\"},\"colorscale\":[[0.0,\"#0d0887\"],[0.1111111111111111,\"#46039f\"],[0.2222222222222222,\"#7201a8\"],[0.3333333333333333,\"#9c179e\"],[0.4444444444444444,\"#bd3786\"],[0.5555555555555556,\"#d8576b\"],[0.6666666666666666,\"#ed7953\"],[0.7777777777777778,\"#fb9f3a\"],[0.8888888888888888,\"#fdca26\"],[1.0,\"#f0f921\"]]}],\"heatmap\":[{\"type\":\"heatmap\",\"colorbar\":{\"outlinewidth\":0,\"ticks\":\"\"},\"colorscale\":[[0.0,\"#0d0887\"],[0.1111111111111111,\"#46039f\"],[0.2222222222222222,\"#7201a8\"],[0.3333333333333333,\"#9c179e\"],[0.4444444444444444,\"#bd3786\"],[0.5555555555555556,\"#d8576b\"],[0.6666666666666666,\"#ed7953\"],[0.7777777777777778,\"#fb9f3a\"],[0.8888888888888888,\"#fdca26\"],[1.0,\"#f0f921\"]]}],\"heatmapgl\":[{\"type\":\"heatmapgl\",\"colorbar\":{\"outlinewidth\":0,\"ticks\":\"\"},\"colorscale\":[[0.0,\"#0d0887\"],[0.1111111111111111,\"#46039f\"],[0.2222222222222222,\"#7201a8\"],[0.3333333333333333,\"#9c179e\"],[0.4444444444444444,\"#bd3786\"],[0.5555555555555556,\"#d8576b\"],[0.6666666666666666,\"#ed7953\"],[0.7777777777777778,\"#fb9f3a\"],[0.8888888888888888,\"#fdca26\"],[1.0,\"#f0f921\"]]}],\"contourcarpet\":[{\"type\":\"contourcarpet\",\"colorbar\":{\"outlinewidth\":0,\"ticks\":\"\"}}],\"contour\":[{\"type\":\"contour\",\"colorbar\":{\"outlinewidth\":0,\"ticks\":\"\"},\"colorscale\":[[0.0,\"#0d0887\"],[0.1111111111111111,\"#46039f\"],[0.2222222222222222,\"#7201a8\"],[0.3333333333333333,\"#9c179e\"],[0.4444444444444444,\"#bd3786\"],[0.5555555555555556,\"#d8576b\"],[0.6666666666666666,\"#ed7953\"],[0.7777777777777778,\"#fb9f3a\"],[0.8888888888888888,\"#fdca26\"],[1.0,\"#f0f921\"]]}],\"surface\":[{\"type\":\"surface\",\"colorbar\":{\"outlinewidth\":0,\"ticks\":\"\"},\"colorscale\":[[0.0,\"#0d0887\"],[0.1111111111111111,\"#46039f\"],[0.2222222222222222,\"#7201a8\"],[0.3333333333333333,\"#9c179e\"],[0.4444444444444444,\"#bd3786\"],[0.5555555555555556,\"#d8576b\"],[0.6666666666666666,\"#ed7953\"],[0.7777777777777778,\"#fb9f3a\"],[0.8888888888888888,\"#fdca26\"],[1.0,\"#f0f921\"]]}],\"mesh3d\":[{\"type\":\"mesh3d\",\"colorbar\":{\"outlinewidth\":0,\"ticks\":\"\"}}],\"scatter\":[{\"marker\":{\"line\":{\"color\":\"#283442\"}},\"type\":\"scatter\"}],\"parcoords\":[{\"type\":\"parcoords\",\"line\":{\"colorbar\":{\"outlinewidth\":0,\"ticks\":\"\"}}}],\"scatterpolargl\":[{\"type\":\"scatterpolargl\",\"marker\":{\"colorbar\":{\"outlinewidth\":0,\"ticks\":\"\"}}}],\"bar\":[{\"error_x\":{\"color\":\"#f2f5fa\"},\"error_y\":{\"color\":\"#f2f5fa\"},\"marker\":{\"line\":{\"color\":\"rgb(17,17,17)\",\"width\":0.5},\"pattern\":{\"fillmode\":\"overlay\",\"size\":10,\"solidity\":0.2}},\"type\":\"bar\"}],\"scattergeo\":[{\"type\":\"scattergeo\",\"marker\":{\"colorbar\":{\"outlinewidth\":0,\"ticks\":\"\"}}}],\"scatterpolar\":[{\"type\":\"scatterpolar\",\"marker\":{\"colorbar\":{\"outlinewidth\":0,\"ticks\":\"\"}}}],\"histogram\":[{\"marker\":{\"pattern\":{\"fillmode\":\"overlay\",\"size\":10,\"solidity\":0.2}},\"type\":\"histogram\"}],\"scattergl\":[{\"marker\":{\"line\":{\"color\":\"#283442\"}},\"type\":\"scattergl\"}],\"scatter3d\":[{\"type\":\"scatter3d\",\"line\":{\"colorbar\":{\"outlinewidth\":0,\"ticks\":\"\"}},\"marker\":{\"colorbar\":{\"outlinewidth\":0,\"ticks\":\"\"}}}],\"scattermapbox\":[{\"type\":\"scattermapbox\",\"marker\":{\"colorbar\":{\"outlinewidth\":0,\"ticks\":\"\"}}}],\"scatterternary\":[{\"type\":\"scatterternary\",\"marker\":{\"colorbar\":{\"outlinewidth\":0,\"ticks\":\"\"}}}],\"scattercarpet\":[{\"type\":\"scattercarpet\",\"marker\":{\"colorbar\":{\"outlinewidth\":0,\"ticks\":\"\"}}}],\"carpet\":[{\"aaxis\":{\"endlinecolor\":\"#A2B1C6\",\"gridcolor\":\"#506784\",\"linecolor\":\"#506784\",\"minorgridcolor\":\"#506784\",\"startlinecolor\":\"#A2B1C6\"},\"baxis\":{\"endlinecolor\":\"#A2B1C6\",\"gridcolor\":\"#506784\",\"linecolor\":\"#506784\",\"minorgridcolor\":\"#506784\",\"startlinecolor\":\"#A2B1C6\"},\"type\":\"carpet\"}],\"table\":[{\"cells\":{\"fill\":{\"color\":\"#506784\"},\"line\":{\"color\":\"rgb(17,17,17)\"}},\"header\":{\"fill\":{\"color\":\"#2a3f5f\"},\"line\":{\"color\":\"rgb(17,17,17)\"}},\"type\":\"table\"}],\"barpolar\":[{\"marker\":{\"line\":{\"color\":\"rgb(17,17,17)\",\"width\":0.5},\"pattern\":{\"fillmode\":\"overlay\",\"size\":10,\"solidity\":0.2}},\"type\":\"barpolar\"}],\"pie\":[{\"automargin\":true,\"type\":\"pie\"}]},\"layout\":{\"autotypenumbers\":\"strict\",\"colorway\":[\"#636efa\",\"#EF553B\",\"#00cc96\",\"#ab63fa\",\"#FFA15A\",\"#19d3f3\",\"#FF6692\",\"#B6E880\",\"#FF97FF\",\"#FECB52\"],\"font\":{\"color\":\"#f2f5fa\"},\"hovermode\":\"closest\",\"hoverlabel\":{\"align\":\"left\"},\"paper_bgcolor\":\"rgb(17,17,17)\",\"plot_bgcolor\":\"rgb(17,17,17)\",\"polar\":{\"bgcolor\":\"rgb(17,17,17)\",\"angularaxis\":{\"gridcolor\":\"#506784\",\"linecolor\":\"#506784\",\"ticks\":\"\"},\"radialaxis\":{\"gridcolor\":\"#506784\",\"linecolor\":\"#506784\",\"ticks\":\"\"}},\"ternary\":{\"bgcolor\":\"rgb(17,17,17)\",\"aaxis\":{\"gridcolor\":\"#506784\",\"linecolor\":\"#506784\",\"ticks\":\"\"},\"baxis\":{\"gridcolor\":\"#506784\",\"linecolor\":\"#506784\",\"ticks\":\"\"},\"caxis\":{\"gridcolor\":\"#506784\",\"linecolor\":\"#506784\",\"ticks\":\"\"}},\"coloraxis\":{\"colorbar\":{\"outlinewidth\":0,\"ticks\":\"\"}},\"colorscale\":{\"sequential\":[[0.0,\"#0d0887\"],[0.1111111111111111,\"#46039f\"],[0.2222222222222222,\"#7201a8\"],[0.3333333333333333,\"#9c179e\"],[0.4444444444444444,\"#bd3786\"],[0.5555555555555556,\"#d8576b\"],[0.6666666666666666,\"#ed7953\"],[0.7777777777777778,\"#fb9f3a\"],[0.8888888888888888,\"#fdca26\"],[1.0,\"#f0f921\"]],\"sequentialminus\":[[0.0,\"#0d0887\"],[0.1111111111111111,\"#46039f\"],[0.2222222222222222,\"#7201a8\"],[0.3333333333333333,\"#9c179e\"],[0.4444444444444444,\"#bd3786\"],[0.5555555555555556,\"#d8576b\"],[0.6666666666666666,\"#ed7953\"],[0.7777777777777778,\"#fb9f3a\"],[0.8888888888888888,\"#fdca26\"],[1.0,\"#f0f921\"]],\"diverging\":[[0,\"#8e0152\"],[0.1,\"#c51b7d\"],[0.2,\"#de77ae\"],[0.3,\"#f1b6da\"],[0.4,\"#fde0ef\"],[0.5,\"#f7f7f7\"],[0.6,\"#e6f5d0\"],[0.7,\"#b8e186\"],[0.8,\"#7fbc41\"],[0.9,\"#4d9221\"],[1,\"#276419\"]]},\"xaxis\":{\"gridcolor\":\"#283442\",\"linecolor\":\"#506784\",\"ticks\":\"\",\"title\":{\"standoff\":15},\"zerolinecolor\":\"#283442\",\"automargin\":true,\"zerolinewidth\":2},\"yaxis\":{\"gridcolor\":\"#283442\",\"linecolor\":\"#506784\",\"ticks\":\"\",\"title\":{\"standoff\":15},\"zerolinecolor\":\"#283442\",\"automargin\":true,\"zerolinewidth\":2},\"scene\":{\"xaxis\":{\"backgroundcolor\":\"rgb(17,17,17)\",\"gridcolor\":\"#506784\",\"linecolor\":\"#506784\",\"showbackground\":true,\"ticks\":\"\",\"zerolinecolor\":\"#C8D4E3\",\"gridwidth\":2},\"yaxis\":{\"backgroundcolor\":\"rgb(17,17,17)\",\"gridcolor\":\"#506784\",\"linecolor\":\"#506784\",\"showbackground\":true,\"ticks\":\"\",\"zerolinecolor\":\"#C8D4E3\",\"gridwidth\":2},\"zaxis\":{\"backgroundcolor\":\"rgb(17,17,17)\",\"gridcolor\":\"#506784\",\"linecolor\":\"#506784\",\"showbackground\":true,\"ticks\":\"\",\"zerolinecolor\":\"#C8D4E3\",\"gridwidth\":2}},\"shapedefaults\":{\"line\":{\"color\":\"#f2f5fa\"}},\"annotationdefaults\":{\"arrowcolor\":\"#f2f5fa\",\"arrowhead\":0,\"arrowwidth\":1},\"geo\":{\"bgcolor\":\"rgb(17,17,17)\",\"landcolor\":\"rgb(17,17,17)\",\"subunitcolor\":\"#506784\",\"showland\":true,\"showlakes\":true,\"lakecolor\":\"rgb(17,17,17)\"},\"title\":{\"x\":0.05},\"updatemenudefaults\":{\"bgcolor\":\"#506784\",\"borderwidth\":0},\"sliderdefaults\":{\"bgcolor\":\"#C8D4E3\",\"borderwidth\":1,\"bordercolor\":\"rgb(17,17,17)\",\"tickwidth\":0},\"mapbox\":{\"style\":\"dark\"}}},\"xaxis\":{\"anchor\":\"y\",\"domain\":[0.0,1.0],\"title\":{\"text\":\"index\"}},\"yaxis\":{\"anchor\":\"x\",\"domain\":[0.0,1.0],\"title\":{\"text\":\"value\"}},\"legend\":{\"title\":{\"text\":\"variable\"},\"tracegroupgap\":0},\"margin\":{\"t\":60}},                        {\"responsive\": true}                    ).then(function(){\n",
       "                            \n",
       "var gd = document.getElementById('846a59e5-4e3e-4b9f-8e60-688da4393abb');\n",
       "var x = new MutationObserver(function (mutations, observer) {{\n",
       "        var display = window.getComputedStyle(gd).display;\n",
       "        if (!display || display === 'none') {{\n",
       "            console.log([gd, 'removed!']);\n",
       "            Plotly.purge(gd);\n",
       "            observer.disconnect();\n",
       "        }}\n",
       "}});\n",
       "\n",
       "// Listen for the removal of the full notebook cells\n",
       "var notebookContainer = gd.closest('#notebook-container');\n",
       "if (notebookContainer) {{\n",
       "    x.observe(notebookContainer, {childList: true});\n",
       "}}\n",
       "\n",
       "// Listen for the clearing of the current output cell\n",
       "var outputEl = gd.closest('.output');\n",
       "if (outputEl) {{\n",
       "    x.observe(outputEl, {childList: true});\n",
       "}}\n",
       "\n",
       "                        })                };                });            </script>        </div>"
      ]
     },
     "metadata": {},
     "output_type": "display_data"
    }
   ],
   "source": [
    "px.line(pl.DataFrame(hist.history), y=[\"loss\", \"val_loss\"]).show()"
   ]
  },
  {
   "cell_type": "code",
   "execution_count": null,
   "metadata": {},
   "outputs": [],
   "source": [
    "# NOTE Try a model without the metadata\n",
    "\n",
    "nmd_timenet = keras.Sequential(\n",
    "    [\n",
    "        keras.Input(shape=(64, 1 + METADATA_VARS)),\n",
    "        keras.layers.Lambda(lambda xs: xs[:, :, 0, tf.newaxis]),\n",
    "        keras.layers.Dense(32, activation=\"relu\"),\n",
    "        keras.layers.Dense(32, activation=\"relu\"),\n",
    "        keras.layers.Dense(32, activation=\"relu\"),\n",
    "        keras.layers.Flatten(),\n",
    "        keras.layers.Dense(TARGET_LENGTH),\n",
    "        keras.layers.Reshape((TARGET_LENGTH, 1)),\n",
    "    ],\n",
    "    name=\"NoMetadata\" + \"-TimeNet\",\n",
    ")\n",
    "\n",
    "model = make_model(nmd_timenet, make_coupnet(), \"NoMetadata\")\n",
    "\n",
    "model.compile(loss=LOSS, optimizer=keras.optimizers.Adam(learning_rate=1e-4))\n",
    "\n",
    "hist = model.fit(\n",
    "    kds.train.repeat(),\n",
    "    validation_data=kds.valid,\n",
    "    epochs=EPOCHS * SPLIT,\n",
    "    steps_per_epoch=kds.length[\"train\"] // SPLIT,\n",
    "    verbose=0,\n",
    ")\n",
    "\n",
    "px.line(pl.DataFrame(hist.history), y=[\"loss\", \"val_loss\"]).show()"
   ]
  },
  {
   "cell_type": "markdown",
   "metadata": {},
   "source": [
    "# EVALUATION"
   ]
  },
  {
   "cell_type": "code",
   "execution_count": 44,
   "metadata": {},
   "outputs": [],
   "source": [
    "kdf = KeysDataFrame(200, False)"
   ]
  },
  {
   "cell_type": "code",
   "execution_count": 45,
   "metadata": {},
   "outputs": [],
   "source": [
    "def predict(\n",
    "    model: keras.Model, kdf: KeysDataFrame, keys: list[Key], input_length: int\n",
    ") -> tuple[tf.Tensor, tf.Tensor]:\n",
    "    inputs, y_sale = split_batch_window(kdf.get_last_window(keys, input_length))  # type: ignore\n",
    "\n",
    "    # predict and unscale the predictions\n",
    "    y_pred = model(inputs)  # -> shape = (keys, TARGET_LENGTH, 1)\n",
    "\n",
    "    y_pred = kdf.unscale(keys, y_pred)\n",
    "\n",
    "    key_losses = tf.reduce_mean(keras.losses.MSLE(y_pred, y_sale), axis=-1)\n",
    "\n",
    "    return y_pred, key_losses"
   ]
  },
  {
   "cell_type": "code",
   "execution_count": 55,
   "metadata": {},
   "outputs": [
    {
     "data": {
      "text/html": [
       "<div><style>\n",
       ".dataframe > thead > tr,\n",
       ".dataframe > tbody > tr {\n",
       "  text-align: right;\n",
       "  white-space: pre-wrap;\n",
       "}\n",
       "</style>\n",
       "<small>shape: (9, 2)</small><table border=\"1\" class=\"dataframe\"><thead><tr><th>statistic</th><th>column_0</th></tr><tr><td>str</td><td>f64</td></tr></thead><tbody><tr><td>&quot;count&quot;</td><td>1782.0</td></tr><tr><td>&quot;null_count&quot;</td><td>0.0</td></tr><tr><td>&quot;mean&quot;</td><td>0.485343</td></tr><tr><td>&quot;std&quot;</td><td>1.341245</td></tr><tr><td>&quot;min&quot;</td><td>0.0</td></tr><tr><td>&quot;25%&quot;</td><td>0.110689</td></tr><tr><td>&quot;50%&quot;</td><td>0.255857</td></tr><tr><td>&quot;75%&quot;</td><td>0.555402</td></tr><tr><td>&quot;max&quot;</td><td>24.525038</td></tr></tbody></table></div>"
      ],
      "text/plain": [
       "shape: (9, 2)\n",
       "┌────────────┬───────────┐\n",
       "│ statistic  ┆ column_0  │\n",
       "│ ---        ┆ ---       │\n",
       "│ str        ┆ f64       │\n",
       "╞════════════╪═══════════╡\n",
       "│ count      ┆ 1782.0    │\n",
       "│ null_count ┆ 0.0       │\n",
       "│ mean       ┆ 0.485343  │\n",
       "│ std        ┆ 1.341245  │\n",
       "│ min        ┆ 0.0       │\n",
       "│ 25%        ┆ 0.110689  │\n",
       "│ 50%        ┆ 0.255857  │\n",
       "│ 75%        ┆ 0.555402  │\n",
       "│ max        ┆ 24.525038 │\n",
       "└────────────┴───────────┘"
      ]
     },
     "execution_count": 55,
     "metadata": {},
     "output_type": "execute_result"
    }
   ],
   "source": [
    "# NOTE The Dummy model from above gives a baseline which uses the last 16 days of the training set as predictions.\n",
    "# NOTE It performs better than all LSTM models from the previous version.\n",
    "#\n",
    "# TODO Rename Dummy -> Baseline and use it as one of our models.\n",
    "#\n",
    "# TODO Make a model using the Baseline TimeNet and a CoupNet to see if the metadata\n",
    "# TODO only can give good predictions.\n",
    "\n",
    "\n",
    "pred, losses = predict(dummy_model, kdf, kdf.keys, 32)\n",
    "\n",
    "baseline_df = pl.DataFrame(\n",
    "    losses[tf.newaxis].numpy(), schema=[str(key) for key in kdf.keys]\n",
    ")\n",
    "\n",
    "baseline_df.transpose().describe()"
   ]
  }
 ],
 "metadata": {
  "kernelspec": {
   "display_name": "tf",
   "language": "python",
   "name": "python3"
  },
  "language_info": {
   "codemirror_mode": {
    "name": "ipython",
    "version": 3
   },
   "file_extension": ".py",
   "mimetype": "text/x-python",
   "name": "python",
   "nbconvert_exporter": "python",
   "pygments_lexer": "ipython3",
   "version": "3.11.5"
  }
 },
 "nbformat": 4,
 "nbformat_minor": 2
}
